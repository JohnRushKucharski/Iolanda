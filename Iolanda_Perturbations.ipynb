{
 "cells": [
  {
   "cell_type": "code",
   "execution_count": 2,
   "metadata": {},
   "outputs": [],
   "source": [
    "import os\n",
    "import math\n",
    "import pandas as pd\n",
    "import numpy as np\n",
    "import random\n",
    "import statistics\n",
    "import matplotlib.pyplot as plt\n",
    "import matplotlib.dates\n",
    "import seaborn\n",
    "from matplotlib.pyplot import figure\n",
    "from datetime import datetime, timedelta\n",
    "from collections import OrderedDict"
   ]
  },
  {
   "cell_type": "code",
   "execution_count": 3,
   "metadata": {},
   "outputs": [
    {
     "data": {
      "text/html": [
       "<div>\n",
       "<style scoped>\n",
       "    .dataframe tbody tr th:only-of-type {\n",
       "        vertical-align: middle;\n",
       "    }\n",
       "\n",
       "    .dataframe tbody tr th {\n",
       "        vertical-align: top;\n",
       "    }\n",
       "\n",
       "    .dataframe thead th {\n",
       "        text-align: right;\n",
       "    }\n",
       "</style>\n",
       "<table border=\"1\" class=\"dataframe\">\n",
       "  <thead>\n",
       "    <tr style=\"text-align: right;\">\n",
       "      <th></th>\n",
       "      <th>month</th>\n",
       "      <th>kasempa_precip</th>\n",
       "      <th>kaoma_precip</th>\n",
       "      <th>max_temp</th>\n",
       "      <th>min_temp</th>\n",
       "      <th>temp_fill_indicator</th>\n",
       "      <th>year</th>\n",
       "      <th>sample_date</th>\n",
       "    </tr>\n",
       "    <tr>\n",
       "      <th>timestep</th>\n",
       "      <th></th>\n",
       "      <th></th>\n",
       "      <th></th>\n",
       "      <th></th>\n",
       "      <th></th>\n",
       "      <th></th>\n",
       "      <th></th>\n",
       "      <th></th>\n",
       "    </tr>\n",
       "  </thead>\n",
       "  <tbody>\n",
       "    <tr>\n",
       "      <th>0</th>\n",
       "      <td>1</td>\n",
       "      <td>324.0</td>\n",
       "      <td>279.1</td>\n",
       "      <td>26.3</td>\n",
       "      <td>17.8</td>\n",
       "      <td>3.0</td>\n",
       "      <td>1.0</td>\n",
       "      <td>01-01-1971</td>\n",
       "    </tr>\n",
       "    <tr>\n",
       "      <th>1</th>\n",
       "      <td>2</td>\n",
       "      <td>229.7</td>\n",
       "      <td>72.1</td>\n",
       "      <td>26.8</td>\n",
       "      <td>17.2</td>\n",
       "      <td>3.0</td>\n",
       "      <td>1.0</td>\n",
       "      <td>02-01-1979</td>\n",
       "    </tr>\n",
       "    <tr>\n",
       "      <th>2</th>\n",
       "      <td>3</td>\n",
       "      <td>109.3</td>\n",
       "      <td>91.8</td>\n",
       "      <td>27.1</td>\n",
       "      <td>16.8</td>\n",
       "      <td>3.0</td>\n",
       "      <td>1.0</td>\n",
       "      <td>03-01-1977</td>\n",
       "    </tr>\n",
       "    <tr>\n",
       "      <th>3</th>\n",
       "      <td>4</td>\n",
       "      <td>23.1</td>\n",
       "      <td>14.2</td>\n",
       "      <td>26.0</td>\n",
       "      <td>15.7</td>\n",
       "      <td>3.0</td>\n",
       "      <td>1.0</td>\n",
       "      <td>04-01-1974</td>\n",
       "    </tr>\n",
       "    <tr>\n",
       "      <th>4</th>\n",
       "      <td>5</td>\n",
       "      <td>0.0</td>\n",
       "      <td>0.0</td>\n",
       "      <td>25.6</td>\n",
       "      <td>11.1</td>\n",
       "      <td>2.0</td>\n",
       "      <td>1.0</td>\n",
       "      <td>05-01-1972</td>\n",
       "    </tr>\n",
       "  </tbody>\n",
       "</table>\n",
       "</div>"
      ],
      "text/plain": [
       "          month  kasempa_precip  kaoma_precip  max_temp  min_temp  \\\n",
       "timestep                                                            \n",
       "0             1           324.0         279.1      26.3      17.8   \n",
       "1             2           229.7          72.1      26.8      17.2   \n",
       "2             3           109.3          91.8      27.1      16.8   \n",
       "3             4            23.1          14.2      26.0      15.7   \n",
       "4             5             0.0           0.0      25.6      11.1   \n",
       "\n",
       "          temp_fill_indicator  year sample_date  \n",
       "timestep                                         \n",
       "0                         3.0   1.0  01-01-1971  \n",
       "1                         3.0   1.0  02-01-1979  \n",
       "2                         3.0   1.0  03-01-1977  \n",
       "3                         3.0   1.0  04-01-1974  \n",
       "4                         2.0   1.0  05-01-1972  "
      ]
     },
     "execution_count": 3,
     "metadata": {},
     "output_type": "execute_result"
    }
   ],
   "source": [
    "os.chdir(\"C:/Users/q0hecjrk/Documents/_Data/Iolanda/\")\n",
    "baseline_df = pd.read_csv(\"Outputs/trace_baseline.csv\")\n",
    "baseline_df = baseline_df.rename(columns = {'Unnamed: 0':'timestep'})\n",
    "baseline_df.set_index('timestep', inplace=True, drop=True, verify_integrity=True)\n",
    "baseline_df.head()"
   ]
  },
  {
   "cell_type": "code",
   "execution_count": 69,
   "metadata": {},
   "outputs": [],
   "source": [
    "#creates traces data with the specified ranges\n",
    "def delta(input_df, precip_range, temperature_range):\n",
    "    output_df = input_df[['month', 'year', 'kaoma_precip', 'min_temp', 'max_temp']]\n",
    "    for p in list(precip_range):\n",
    "        trace_df = output_df.copy(deep = True)\n",
    "        trace_df['kaoma_precip'].apply(lambda x : x * p)\n",
    "        precip = str(int(round(p * 10) * 10)).zfill(3)\n",
    "        for t in list(temperature_range):\n",
    "            trace_df['min_temp'].apply(lambda x : x + t)\n",
    "            trace_df['max_temp'].apply(lambda x : x + t)\n",
    "            file = 'trace_t' + str(t) + '_p' + precip + '.csv'\n",
    "            trace_df.to_csv('Outputs/traces/' + file)"
   ]
  },
  {
   "cell_type": "code",
   "execution_count": 70,
   "metadata": {},
   "outputs": [],
   "source": [
    "temp_range = range(0, 7, 1)\n",
    "precip_range = np.arange(0.7, 1.4, 0.1)\n",
    "delta(baseline_df, precip_range, temp_range)"
   ]
  },
  {
   "cell_type": "code",
   "execution_count": 25,
   "metadata": {},
   "outputs": [
    {
     "data": {
      "text/html": [
       "<div>\n",
       "<style scoped>\n",
       "    .dataframe tbody tr th:only-of-type {\n",
       "        vertical-align: middle;\n",
       "    }\n",
       "\n",
       "    .dataframe tbody tr th {\n",
       "        vertical-align: top;\n",
       "    }\n",
       "\n",
       "    .dataframe thead th {\n",
       "        text-align: right;\n",
       "    }\n",
       "</style>\n",
       "<table border=\"1\" class=\"dataframe\">\n",
       "  <thead>\n",
       "    <tr style=\"text-align: right;\">\n",
       "      <th></th>\n",
       "      <th>kaoma_precip</th>\n",
       "      <th>ma_three</th>\n",
       "    </tr>\n",
       "    <tr>\n",
       "      <th>year</th>\n",
       "      <th></th>\n",
       "      <th></th>\n",
       "    </tr>\n",
       "  </thead>\n",
       "  <tbody>\n",
       "    <tr>\n",
       "      <th>1.0</th>\n",
       "      <td>776.4</td>\n",
       "      <td>NaN</td>\n",
       "    </tr>\n",
       "    <tr>\n",
       "      <th>2.0</th>\n",
       "      <td>846.9</td>\n",
       "      <td>NaN</td>\n",
       "    </tr>\n",
       "    <tr>\n",
       "      <th>3.0</th>\n",
       "      <td>452.7</td>\n",
       "      <td>692.0</td>\n",
       "    </tr>\n",
       "    <tr>\n",
       "      <th>4.0</th>\n",
       "      <td>700.5</td>\n",
       "      <td>666.7</td>\n",
       "    </tr>\n",
       "    <tr>\n",
       "      <th>5.0</th>\n",
       "      <td>883.2</td>\n",
       "      <td>678.8</td>\n",
       "    </tr>\n",
       "  </tbody>\n",
       "</table>\n",
       "</div>"
      ],
      "text/plain": [
       "      kaoma_precip  ma_three\n",
       "year                        \n",
       "1.0          776.4       NaN\n",
       "2.0          846.9       NaN\n",
       "3.0          452.7     692.0\n",
       "4.0          700.5     666.7\n",
       "5.0          883.2     678.8"
      ]
     },
     "execution_count": 25,
     "metadata": {},
     "output_type": "execute_result"
    }
   ],
   "source": [
    "baseline_year_df = baseline_df.groupby('year')['kaoma_precip'].sum().reset_index()\n",
    "baseline_year_df = baseline_year_df.set_index('year')\n",
    "baseline_year_df['ma_three'] = baseline_year_df.rolling(window=3).mean() \n",
    "baseline_year_df.head()"
   ]
  },
  {
   "cell_type": "code",
   "execution_count": 27,
   "metadata": {},
   "outputs": [
    {
     "data": {
      "image/png": "[encoded data removed]",
      "text/plain": [
       "<Figure size 432x288 with 1 Axes>"
      ]
     },
     "metadata": {},
     "output_type": "display_data"
    }
   ],
   "source": [
    "baseline_year_figure = plt.figure()\n",
    "baseline_year_figure = plt.title(\"Annual Precipitation Series\")\n",
    "baseline_year_figure = plt.ylabel(\"Precipitation in mm\")\n",
    "baseline_year_figure = plt.plot(baseline_year_df.index, baseline_year_df['kaoma_precip'], label = 'Precipitation')\n",
    "baseline_year_figure = plt.plot(baseline_year_df.index, baseline_year_df['ma_three'], label = '3 Year Average Precipitation')\n",
    "baseline_year_figure = plt.legend()\n",
    "baseline_year_figure = plt.show()"
   ]
  }
 ],
 "metadata": {
  "kernelspec": {
   "display_name": "Python 3",
   "language": "python",
   "name": "python3"
  },
  "language_info": {
   "codemirror_mode": {
    "name": "ipython",
    "version": 3
   },
   "file_extension": ".py",
   "mimetype": "text/x-python",
   "name": "python",
   "nbconvert_exporter": "python",
   "pygments_lexer": "ipython3",
   "version": "3.6.5"
  }
 },
 "nbformat": 4,
 "nbformat_minor": 2
}
