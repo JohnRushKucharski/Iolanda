{
 "cells": [
  {
   "cell_type": "code",
   "execution_count": 203,
   "metadata": {},
   "outputs": [],
   "source": [
    "import os\n",
    "import math\n",
    "import pandas as pd\n",
    "import numpy as np\n",
    "import random\n",
    "import statistics\n",
    "import matplotlib.pyplot as plt\n",
    "import matplotlib.dates\n",
    "import seaborn\n",
    "from matplotlib.pyplot import figure\n",
    "from datetime import datetime, timedelta\n",
    "from collections import OrderedDict"
   ]
  },
  {
   "cell_type": "markdown",
   "metadata": {},
   "source": [
    "# <font color= purple> 0. Setup </font>\n",
    " -  <font color= blue> set working directory </font><br>\n",
    " -  <font color= blue> import data files </font>\n",
    "     <br>\n",
    "      1. <font color = blue> Kaoma precitipation data -</font> used in the analysis <br>\n",
    "      2. <font color = blue> Kabwe temperature data -</font> used in the analysis <br>\n",
    "      3. <font color = blue> Kasempa precipitation data -</font> analysed for comparision but excluded from the analysis <br>\n",
    "      <br>\n",
    " -  <font color= blue> add datetime index </font>"
   ]
  },
  {
   "cell_type": "code",
   "execution_count": 204,
   "metadata": {},
   "outputs": [],
   "source": [
    "os.chdir(\"C:/Users/q0hecjrk/Documents/_Data/Iolanda/\")\n",
    "\n",
    "# Datasets:\n",
    "kaoma_df = pd.read_csv(\"Inputs/Precipitation_Kaoma.csv\")\n",
    "kabwe_df = pd.read_csv(\"Inputs/Temperature_Kabwe.csv\")\n",
    "kasempa_df = pd.read_csv(\"Inputs/Precipitation_Kasempa.csv\")\n",
    "\n",
    "kaoma_df['Date'] = pd.to_datetime(kaoma_df.Year.astype(str)+'-'+kaoma_df.Month.astype(str),format='%Y-%m')\n",
    "kabwe_df['Date'] = pd.to_datetime(kabwe_df.Year.astype(str)+'-'+kabwe_df.Month.astype(str),format='%Y-%m')\n",
    "kasempa_df['Date'] = pd.to_datetime(kasempa_df.Year.astype(str)+'-'+kasempa_df.Month.astype(str),format='%Y-%m')\n",
    "\n",
    "kaoma_df.set_index('Date', inplace=True, drop=True, verify_integrity=True)\n",
    "kabwe_df.set_index('Date', inplace=True, drop=True, verify_integrity=True)\n",
    "kasempa_df.set_index('Date', inplace=True, drop=True, verify_integrity=True)"
   ]
  },
  {
   "cell_type": "markdown",
   "metadata": {},
   "source": [
    "# <font color= purple> 1. Examine Input Data </font>\n",
    " -  <font color= blue> review dataframes -</font> Kaoma, Kasempa and Kabwe station dataframes <br>\n",
    " -  <font color= blue> review precipitation data </font>\n",
    "     <br>\n",
    "      1. <font color = blue> compare monthly precitipation data -</font> compare Kaoma and Kasempa station data <br>\n",
    "      2. <font color = blue> compare annual precipitation data -</font> compare Kaoma and Kasempa station data <br>\n",
    "     <br>\n",
    " -  <font color= blue> Kabwe temperature data -</font> review and visualize statistical properties of the data\n",
    " -  <font color= blue> Kaoma precipitation data -</font> review and visualize statistical properties of the data"
   ]
  },
  {
   "cell_type": "code",
   "execution_count": 205,
   "metadata": {},
   "outputs": [
    {
     "data": {
      "text/html": [
       "<div>\n",
       "<style scoped>\n",
       "    .dataframe tbody tr th:only-of-type {\n",
       "        vertical-align: middle;\n",
       "    }\n",
       "\n",
       "    .dataframe tbody tr th {\n",
       "        vertical-align: top;\n",
       "    }\n",
       "\n",
       "    .dataframe thead th {\n",
       "        text-align: right;\n",
       "    }\n",
       "</style>\n",
       "<table border=\"1\" class=\"dataframe\">\n",
       "  <thead>\n",
       "    <tr style=\"text-align: right;\">\n",
       "      <th></th>\n",
       "      <th>Year</th>\n",
       "      <th>Month</th>\n",
       "      <th>Season</th>\n",
       "      <th>Precipitation</th>\n",
       "    </tr>\n",
       "    <tr>\n",
       "      <th>Date</th>\n",
       "      <th></th>\n",
       "      <th></th>\n",
       "      <th></th>\n",
       "      <th></th>\n",
       "    </tr>\n",
       "  </thead>\n",
       "  <tbody>\n",
       "    <tr>\n",
       "      <th>1961-01-01</th>\n",
       "      <td>1961</td>\n",
       "      <td>1</td>\n",
       "      <td>1</td>\n",
       "      <td>242.5</td>\n",
       "    </tr>\n",
       "    <tr>\n",
       "      <th>1961-02-01</th>\n",
       "      <td>1961</td>\n",
       "      <td>2</td>\n",
       "      <td>1</td>\n",
       "      <td>209.1</td>\n",
       "    </tr>\n",
       "    <tr>\n",
       "      <th>1961-03-01</th>\n",
       "      <td>1961</td>\n",
       "      <td>3</td>\n",
       "      <td>1</td>\n",
       "      <td>97.6</td>\n",
       "    </tr>\n",
       "    <tr>\n",
       "      <th>1961-04-01</th>\n",
       "      <td>1961</td>\n",
       "      <td>4</td>\n",
       "      <td>1</td>\n",
       "      <td>5.6</td>\n",
       "    </tr>\n",
       "    <tr>\n",
       "      <th>1961-05-01</th>\n",
       "      <td>1961</td>\n",
       "      <td>5</td>\n",
       "      <td>0</td>\n",
       "      <td>0.0</td>\n",
       "    </tr>\n",
       "  </tbody>\n",
       "</table>\n",
       "</div>"
      ],
      "text/plain": [
       "            Year  Month  Season  Precipitation\n",
       "Date                                          \n",
       "1961-01-01  1961      1       1          242.5\n",
       "1961-02-01  1961      2       1          209.1\n",
       "1961-03-01  1961      3       1           97.6\n",
       "1961-04-01  1961      4       1            5.6\n",
       "1961-05-01  1961      5       0            0.0"
      ]
     },
     "execution_count": 205,
     "metadata": {},
     "output_type": "execute_result"
    }
   ],
   "source": [
    "kaoma_df.head()"
   ]
  },
  {
   "cell_type": "code",
   "execution_count": 206,
   "metadata": {},
   "outputs": [
    {
     "data": {
      "text/html": [
       "<div>\n",
       "<style scoped>\n",
       "    .dataframe tbody tr th:only-of-type {\n",
       "        vertical-align: middle;\n",
       "    }\n",
       "\n",
       "    .dataframe tbody tr th {\n",
       "        vertical-align: top;\n",
       "    }\n",
       "\n",
       "    .dataframe thead th {\n",
       "        text-align: right;\n",
       "    }\n",
       "</style>\n",
       "<table border=\"1\" class=\"dataframe\">\n",
       "  <thead>\n",
       "    <tr style=\"text-align: right;\">\n",
       "      <th></th>\n",
       "      <th>Year</th>\n",
       "      <th>Month</th>\n",
       "      <th>Season</th>\n",
       "      <th>Precipitation</th>\n",
       "    </tr>\n",
       "    <tr>\n",
       "      <th>Date</th>\n",
       "      <th></th>\n",
       "      <th></th>\n",
       "      <th></th>\n",
       "      <th></th>\n",
       "    </tr>\n",
       "  </thead>\n",
       "  <tbody>\n",
       "    <tr>\n",
       "      <th>1950-01-01</th>\n",
       "      <td>1950</td>\n",
       "      <td>1</td>\n",
       "      <td>1</td>\n",
       "      <td>293.1</td>\n",
       "    </tr>\n",
       "    <tr>\n",
       "      <th>1950-02-01</th>\n",
       "      <td>1950</td>\n",
       "      <td>2</td>\n",
       "      <td>1</td>\n",
       "      <td>97.8</td>\n",
       "    </tr>\n",
       "    <tr>\n",
       "      <th>1950-03-01</th>\n",
       "      <td>1950</td>\n",
       "      <td>3</td>\n",
       "      <td>1</td>\n",
       "      <td>108.4</td>\n",
       "    </tr>\n",
       "    <tr>\n",
       "      <th>1950-04-01</th>\n",
       "      <td>1950</td>\n",
       "      <td>4</td>\n",
       "      <td>1</td>\n",
       "      <td>0.0</td>\n",
       "    </tr>\n",
       "    <tr>\n",
       "      <th>1950-05-01</th>\n",
       "      <td>1950</td>\n",
       "      <td>5</td>\n",
       "      <td>0</td>\n",
       "      <td>0.0</td>\n",
       "    </tr>\n",
       "  </tbody>\n",
       "</table>\n",
       "</div>"
      ],
      "text/plain": [
       "            Year  Month  Season  Precipitation\n",
       "Date                                          \n",
       "1950-01-01  1950      1       1          293.1\n",
       "1950-02-01  1950      2       1           97.8\n",
       "1950-03-01  1950      3       1          108.4\n",
       "1950-04-01  1950      4       1            0.0\n",
       "1950-05-01  1950      5       0            0.0"
      ]
     },
     "execution_count": 206,
     "metadata": {},
     "output_type": "execute_result"
    }
   ],
   "source": [
    "kasempa_df.head()"
   ]
  },
  {
   "cell_type": "code",
   "execution_count": 207,
   "metadata": {},
   "outputs": [
    {
     "data": {
      "text/html": [
       "<div>\n",
       "<style scoped>\n",
       "    .dataframe tbody tr th:only-of-type {\n",
       "        vertical-align: middle;\n",
       "    }\n",
       "\n",
       "    .dataframe tbody tr th {\n",
       "        vertical-align: top;\n",
       "    }\n",
       "\n",
       "    .dataframe thead th {\n",
       "        text-align: right;\n",
       "    }\n",
       "</style>\n",
       "<table border=\"1\" class=\"dataframe\">\n",
       "  <thead>\n",
       "    <tr style=\"text-align: right;\">\n",
       "      <th></th>\n",
       "      <th>Month</th>\n",
       "      <th>Year</th>\n",
       "      <th>MaxTemp</th>\n",
       "      <th>MinTemp</th>\n",
       "    </tr>\n",
       "    <tr>\n",
       "      <th>Date</th>\n",
       "      <th></th>\n",
       "      <th></th>\n",
       "      <th></th>\n",
       "      <th></th>\n",
       "    </tr>\n",
       "  </thead>\n",
       "  <tbody>\n",
       "    <tr>\n",
       "      <th>1980-01-01</th>\n",
       "      <td>1</td>\n",
       "      <td>1980</td>\n",
       "      <td>27.7</td>\n",
       "      <td>16.4</td>\n",
       "    </tr>\n",
       "    <tr>\n",
       "      <th>1980-04-01</th>\n",
       "      <td>4</td>\n",
       "      <td>1980</td>\n",
       "      <td>26.0</td>\n",
       "      <td>17.0</td>\n",
       "    </tr>\n",
       "    <tr>\n",
       "      <th>1980-05-01</th>\n",
       "      <td>5</td>\n",
       "      <td>1980</td>\n",
       "      <td>26.0</td>\n",
       "      <td>10.4</td>\n",
       "    </tr>\n",
       "    <tr>\n",
       "      <th>1980-06-01</th>\n",
       "      <td>6</td>\n",
       "      <td>1980</td>\n",
       "      <td>21.5</td>\n",
       "      <td>7.1</td>\n",
       "    </tr>\n",
       "    <tr>\n",
       "      <th>1980-07-01</th>\n",
       "      <td>7</td>\n",
       "      <td>1980</td>\n",
       "      <td>22.4</td>\n",
       "      <td>8.5</td>\n",
       "    </tr>\n",
       "  </tbody>\n",
       "</table>\n",
       "</div>"
      ],
      "text/plain": [
       "            Month  Year  MaxTemp  MinTemp\n",
       "Date                                     \n",
       "1980-01-01      1  1980     27.7     16.4\n",
       "1980-04-01      4  1980     26.0     17.0\n",
       "1980-05-01      5  1980     26.0     10.4\n",
       "1980-06-01      6  1980     21.5      7.1\n",
       "1980-07-01      7  1980     22.4      8.5"
      ]
     },
     "execution_count": 207,
     "metadata": {},
     "output_type": "execute_result"
    }
   ],
   "source": [
    "kabwe_df.head()"
   ]
  },
  {
   "cell_type": "markdown",
   "metadata": {},
   "source": [
    "#### <font color= purple> Data availability analysis: </font>"
   ]
  },
  {
   "cell_type": "code",
   "execution_count": 208,
   "metadata": {},
   "outputs": [],
   "source": [
    "#list of dates spanning the full data range\n",
    "date_list = pd.date_range(kasempa_df.index.min(), kabwe_df.index.max(), freq='MS').strftime(\"%Y-%m\").tolist()\n",
    "date_list_df = pd.DataFrame(pd.to_datetime(date_list, format='%Y-%m'), columns=['Date'])\n",
    "#merge Kasempa data\n",
    "timeseries_df = date_list_df.merge(kasempa_df.drop(['Year', 'Month', 'Season'], axis=1), how='left', on='Date')\n",
    "timeseries_df = timeseries_df.rename(columns = {'Precipitation':'Kasempa Precipitation'})\n",
    "#merge Kaoma data\n",
    "timeseries_df = timeseries_df.merge(kaoma_df.drop(['Year', 'Month', 'Season'], axis=1), how='left', on='Date')\n",
    "timeseries_df = timeseries_df.rename(columns = {'Precipitation':'Kaoma Precipitation'})\n",
    "#merge Kabwe data\n",
    "timeseries_df = timeseries_df.merge(kabwe_df.drop(['Year', 'Month'], axis=1), how='left', on='Date')\n",
    "#convert value columns to booleans (1 = contains data, 0 = missing data ~ NaN)\n",
    "timeseries_dummy_df = timeseries_df.copy(deep = True)\n",
    "timeseries_dummy_df['Kasempa Precipitation'] = np.where(timeseries_dummy_df['Kasempa Precipitation'].isnull(), np.nan, 4)\n",
    "timeseries_dummy_df['Kaoma Precipitation'] = np.where(timeseries_dummy_df['Kaoma Precipitation'].isnull(), np.nan, 3)\n",
    "timeseries_dummy_df['MaxTemp'] = np.where(timeseries_dummy_df['MaxTemp'].isnull(), np.nan, 2)\n",
    "timeseries_dummy_df['MinTemp'] = np.where(timeseries_dummy_df['MinTemp'].isnull(), np.nan, 1)\n",
    "\n",
    "timeseries_dummy_df.set_index('Date', inplace=True, drop=True, verify_integrity=True)"
   ]
  },
  {
   "cell_type": "code",
   "execution_count": 209,
   "metadata": {},
   "outputs": [
    {
     "data": {
      "image/png": "[encoded data removed]",
      "text/plain": [
       "<Figure size 432x288 with 1 Axes>"
      ]
     },
     "metadata": {},
     "output_type": "display_data"
    }
   ],
   "source": [
    "#Data availability plot\n",
    "data_availability_figure = plt.figure()\n",
    "data_availability_figure = plt.title('Data Observations')\n",
    "data_availability_figure = plt.axis([timeseries_dummy_df.index.min(), timeseries_dummy_df.index.max(), 0, 5])\n",
    "data_availability_figure = plt.yticks(np.arange(0, 5, 1.0), labels = ['', 'Kabwe T Min', 'Kabwe T Max', 'Kaoma Precip', 'Kasempa Precip'])\n",
    "data_availability_figure = plt.scatter(timeseries_dummy_df.index, timeseries_dummy_df['Kasempa Precipitation'], marker = \"|\", c = 'grey')\n",
    "data_availability_figure = plt.scatter(timeseries_dummy_df.index, timeseries_dummy_df['Kaoma Precipitation'], marker = \"|\", c = 'grey')\n",
    "data_availability_figure = plt.scatter(timeseries_dummy_df.index, timeseries_dummy_df['MaxTemp'], marker = \"|\", c = 'grey')\n",
    "data_availability_figure = plt.scatter(timeseries_dummy_df.index, timeseries_dummy_df['MinTemp'], marker = \"|\", c = 'grey')\n",
    "data_availability_figure = plt.show()"
   ]
  },
  {
   "cell_type": "markdown",
   "metadata": {},
   "source": [
    "## <font color = purple>Precipitation Data Comparison</font><br>\n",
    "Precipitation data was collected from the 2 nearest NOAA guage stations (http://www.ncdc.noaa.gov/):\n",
    "1. <font color = blue>Kaoma station - monthly data from January 1961 - December 1990 </font><br>\n",
    "2. <font color = blue>Kasempa station - monthly data from January 1950 - December 1990 </font><br>\n",
    "<br>\n",
    "Ultimately the Kaoma guage data was selected for the analysis."
   ]
  },
  {
   "cell_type": "markdown",
   "metadata": {},
   "source": [
    "#### <font color = purple> Monthly Precipitation Data Analysis </font>"
   ]
  },
  {
   "cell_type": "code",
   "execution_count": 210,
   "metadata": {},
   "outputs": [
    {
     "data": {
      "image/png": "[encoded data removed]",
      "text/plain": [
       "<Figure size 432x288 with 1 Axes>"
      ]
     },
     "metadata": {},
     "output_type": "display_data"
    }
   ],
   "source": [
    "#Monthly timeseries plot\n",
    "monthly_precip_timeseries_figure = plt.figure()\n",
    "monthly_precip_timeseries_figure = plt.title('Monthly Precipitation Time Series')\n",
    "monthly_precip_timeseries_figure = plt.ylabel(\"Precipitation in mm\")\n",
    "monthly_precip_timeseries_figure = plt.plot(kasempa_df.index, kasempa_df['Precipitation'], label = 'Kasempa')\n",
    "monthly_precip_timeseries_figure = plt.plot(kaoma_df.index, kaoma_df['Precipitation'], label = 'Kaoma')\n",
    "monthly_precip_timeseries_figure = plt.legend()\n",
    "monthly_precip_timeseries_figure = plt.show()"
   ]
  },
  {
   "cell_type": "code",
   "execution_count": 211,
   "metadata": {},
   "outputs": [],
   "source": [
    "#Overlapping monthly precipitation dataframe\n",
    "kasempa_overlap_df = kasempa_df.loc[kaoma_df.index.min(): kaoma_df.index.max()]"
   ]
  },
  {
   "cell_type": "code",
   "execution_count": 212,
   "metadata": {},
   "outputs": [
    {
     "data": {
      "image/png": "[encoded data removed]",
      "text/plain": [
       "<Figure size 432x288 with 1 Axes>"
      ]
     },
     "metadata": {},
     "output_type": "display_data"
    }
   ],
   "source": [
    "#Monthly precipitation correlation Plot\n",
    "monthly_precip_correlation_figure = plt.figure()\n",
    "monthly_precip_correlation_figure = plt.title('Correlation in Monthly Data')\n",
    "monthly_precip_correlation_figure = plt.xlabel(\"Kasempa Station Precipitation\")\n",
    "monthly_precip_correlation_figure = plt.ylabel(\"Kaoma Station Precipitation\")\n",
    "monthly_precip_correlation_figure = plt.axis([0, 500, 0, 500])\n",
    "monthly_precip_correlation_figure = plt.plot([0, 500], [0, 500], 'r--')\n",
    "monthly_precip_correlation_figure = plt.scatter(kasempa_overlap_df['Precipitation'], kaoma_df['Precipitation'])\n",
    "monthly_precip_correlation_figure = plt.show()"
   ]
  },
  {
   "cell_type": "code",
   "execution_count": 213,
   "metadata": {},
   "outputs": [
    {
     "name": "stdout",
     "output_type": "stream",
     "text": [
      "                       Kaoma Precipitation  Kasempa Precipitation\n",
      "Kaoma Precipitation               1.000000               0.867961\n",
      "Kasempa Precipitation             0.867961               1.000000\n"
     ]
    }
   ],
   "source": [
    "#Examining Monthly Pearson Correlation Coeffecient\n",
    "combined_df = kasempa_overlap_df.copy(deep = True)\n",
    "combined_df = combined_df.rename(columns = {'Precipitation':'Kasempa Precipitation'})\n",
    "combined_df['Kaoma Precipitation'] = kaoma_df['Precipitation']\n",
    "print(combined_df[['Kaoma Precipitation','Kasempa Precipitation']].corr())"
   ]
  },
  {
   "cell_type": "markdown",
   "metadata": {},
   "source": [
    "#### <font color = purple> Annual Precipitation Data Analysis... </font>"
   ]
  },
  {
   "cell_type": "code",
   "execution_count": 214,
   "metadata": {},
   "outputs": [],
   "source": [
    "#Annual Dataframes\n",
    "kaoma_year_df = kaoma_df.drop(['Year', 'Month', 'Season'], axis = 1)\n",
    "kasempa_year_df = kasempa_df.drop(['Year', 'Month', 'Season'], axis = 1)\n",
    "kaoma_year_df = kaoma_year_df.resample(\"Y\").sum()\n",
    "kasempa_year_df = kasempa_year_df.resample(\"Y\").sum()"
   ]
  },
  {
   "cell_type": "code",
   "execution_count": 215,
   "metadata": {},
   "outputs": [
    {
     "data": {
      "image/png": "[encoded data removed]",
      "text/plain": [
       "<Figure size 432x288 with 1 Axes>"
      ]
     },
     "metadata": {},
     "output_type": "display_data"
    }
   ],
   "source": [
    "#Plotting Annual Timeseries\n",
    "annual_precip_timeseries_figure = plt.figure()\n",
    "annual_precip_timeseries_figure = plt.title(\"Annual Precipitation Series\")\n",
    "annual_precip_timeseries_figure = plt.ylabel(\"Precipitation in mm\")\n",
    "annual_precip_timeseries_figure = plt.plot(kasempa_year_df.index, kasempa_year_df['Precipitation'], label = 'Kasempa')\n",
    "annual_precip_timeseries_figure = plt.plot(kaoma_year_df.index, kaoma_year_df['Precipitation'], label = 'Kaoma')\n",
    "annual_precip_timeseries_figure = plt.legend()\n",
    "annual_precip_timeseries_figure = plt.show()"
   ]
  },
  {
   "cell_type": "code",
   "execution_count": 216,
   "metadata": {},
   "outputs": [],
   "source": [
    "#Overlapping annual precipitation dataframe\n",
    "kasempa_overlap_year_df = kasempa_year_df.loc[kaoma_year_df.index.min(): kaoma_year_df.index.max()]"
   ]
  },
  {
   "cell_type": "code",
   "execution_count": 217,
   "metadata": {},
   "outputs": [
    {
     "data": {
      "image/png": "[encoded data removed]",
      "text/plain": [
       "<Figure size 432x288 with 1 Axes>"
      ]
     },
     "metadata": {},
     "output_type": "display_data"
    }
   ],
   "source": [
    "#Annual precipitation correlation plot\n",
    "annual_precip_correlation_figure = plt.figure()\n",
    "annual_precip_correlation_figure = plt.title('Correlation in Monthly Data')\n",
    "annual_precip_correlation_figure = plt.xlabel(\"Kasempa Station Precipitation\")\n",
    "annual_precip_correlation_figure = plt.ylabel(\"Kaoma Station Precipitation\")\n",
    "annual_precip_correlation_figure = plt.axis([600, 1600, 600, 1600])\n",
    "annual_precip_correlation_figure = plt.plot([600, 1600], [600, 1600], 'r--')\n",
    "annual_precip_correlation_figure = plt.scatter(kasempa_overlap_year_df['Precipitation'], kaoma_year_df['Precipitation'])\n",
    "annual_precip_correlation_figure = plt.show()"
   ]
  },
  {
   "cell_type": "code",
   "execution_count": 218,
   "metadata": {},
   "outputs": [
    {
     "name": "stdout",
     "output_type": "stream",
     "text": [
      "                       Kaoma Precipitation  Kasempa Precipitation\n",
      "Kaoma Precipitation               1.000000               0.409918\n",
      "Kasempa Precipitation             0.409918               1.000000\n"
     ]
    }
   ],
   "source": [
    "#Examining annual precipitation Pearson correlation coefficient\n",
    "combined_year_df = kasempa_overlap_year_df.copy(deep = True)\n",
    "combined_year_df = combined_year_df.rename(columns = {'Precipitation':'Kasempa Precipitation'})\n",
    "combined_year_df['Kaoma Precipitation'] = kaoma_year_df['Precipitation']\n",
    "print(combined_year_df[['Kaoma Precipitation','Kasempa Precipitation']].corr())"
   ]
  },
  {
   "cell_type": "code",
   "execution_count": 219,
   "metadata": {},
   "outputs": [
    {
     "name": "stdout",
     "output_type": "stream",
     "text": [
      "       Precipitation\n",
      "count      41.000000\n",
      "mean     1120.546341\n",
      "std       205.468573\n",
      "min       726.600000\n",
      "25%      1012.300000\n",
      "50%      1125.500000\n",
      "75%      1219.900000\n",
      "max      1595.300000\n",
      "cov      0.18336463699761357\n",
      "skew     0.040389687298101856\n"
     ]
    }
   ],
   "source": [
    "cov = statistics.stdev(kasempa_year_df['Precipitation'])/kasempa_year_df['Precipitation'].mean()\n",
    "skew = kasempa_year_df['Precipitation'].skew()\n",
    "print(kasempa_year_df.describe())\n",
    "print('cov      '+str(cov))\n",
    "print('skew     '+str(skew))"
   ]
  },
  {
   "cell_type": "code",
   "execution_count": 220,
   "metadata": {},
   "outputs": [
    {
     "data": {
      "image/png": "[encoded data removed]",
      "text/plain": [
       "<Figure size 432x288 with 1 Axes>"
      ]
     },
     "metadata": {},
     "output_type": "display_data"
    }
   ],
   "source": [
    "kasempa_annual_distribution_figure = plt.figure()\n",
    "kasempa_annual_distribution_figure = plt.title('Kasempa Full Record Annual Precipitation Distribution')\n",
    "kasempa_annual_distribution_figure = plt.ylabel('precipitation in mm')\n",
    "kasempa_annual_distribution_figure = plt.hist(kasempa_year_df['Precipitation'], color='grey', fill=False)\n",
    "kasempa_annual_distribution_figure = plt.show()"
   ]
  },
  {
   "cell_type": "code",
   "execution_count": 221,
   "metadata": {},
   "outputs": [
    {
     "data": {
      "image/png": "[encoded data removed]",
      "text/plain": [
       "<Figure size 432x288 with 1 Axes>"
      ]
     },
     "metadata": {},
     "output_type": "display_data"
    }
   ],
   "source": [
    "kasempa_overlap_annual_distribution_figure = plt.figure()\n",
    "kasempa_overlap_annual_distribution_figure = plt.title('Kasempa Overlapping Record Annual Precipitation Distribution')\n",
    "kasempa_overlap_annual_distribution_figure = plt.ylabel('precipitation in mm')\n",
    "kasempa_overlap_annual_distribution_figure = plt.hist(kasempa_overlap_year_df['Precipitation'], color='grey', fill=False)\n",
    "kasempa_overlap_annual_distribution_figure = plt.show()"
   ]
  },
  {
   "cell_type": "code",
   "execution_count": 222,
   "metadata": {},
   "outputs": [
    {
     "name": "stdout",
     "output_type": "stream",
     "text": [
      "       Precipitation\n",
      "count      30.000000\n",
      "mean      885.783333\n",
      "std       185.172540\n",
      "min       599.900000\n",
      "25%       732.350000\n",
      "50%       858.350000\n",
      "75%       994.150000\n",
      "max      1332.400000\n",
      "cov      0.20904947453480896\n",
      "skew     0.7503592957741662\n"
     ]
    }
   ],
   "source": [
    "cov = statistics.stdev(kaoma_year_df['Precipitation'])/kaoma_year_df['Precipitation'].mean()\n",
    "skew = kaoma_year_df['Precipitation'].skew()\n",
    "print(kaoma_year_df.describe())\n",
    "print('cov      '+str(cov))\n",
    "print('skew     '+str(skew))"
   ]
  },
  {
   "cell_type": "code",
   "execution_count": 223,
   "metadata": {},
   "outputs": [
    {
     "data": {
      "image/png": "[encoded data removed]",
      "text/plain": [
       "<Figure size 432x288 with 1 Axes>"
      ]
     },
     "metadata": {},
     "output_type": "display_data"
    }
   ],
   "source": [
    "kaoma_annual_distribution_figure = plt.figure()\n",
    "kaoma_annual_distribution_figure = plt.title('Kaoma Annual Precipitation Distribution')\n",
    "kaoma_annual_distribution_figure = plt.ylabel('precipitation in mm')\n",
    "kaoma_annual_distribution_figure = plt.hist(kaoma_year_df['Precipitation'], color='grey', fill=False)\n",
    "kaoma_annual_distribution_figure = plt.show()"
   ]
  },
  {
   "cell_type": "markdown",
   "metadata": {},
   "source": [
    "#### <font color = purple>Notes:</font>\n",
    "1. <font color = blue>The Kasempa station recieves more precepitation. \n",
    "2. <font color = blue>The monthly data are strongly correlated, however the annual data are not."
   ]
  },
  {
   "cell_type": "markdown",
   "metadata": {},
   "source": [
    "## <font color = purple> Temperature Data Analysis </font>\n",
    "1. <font color = blue>Visualization of temperature data\n",
    "2. <font color = blue>Comparision to precipitation data"
   ]
  },
  {
   "cell_type": "code",
   "execution_count": 224,
   "metadata": {},
   "outputs": [],
   "source": [
    "#Monthly temperature lists\n",
    "kabwe_mintemp_monthly_lists = kabwe_df.groupby('Month')['MinTemp'].apply(list)\n",
    "kabwe_maxtemp_monthly_lists = kabwe_df.groupby('Month')['MaxTemp'].apply(list)"
   ]
  },
  {
   "cell_type": "code",
   "execution_count": 225,
   "metadata": {},
   "outputs": [
    {
     "data": {
      "image/png": "[encoded data removed]",
      "text/plain": [
       "<Figure size 432x288 with 1 Axes>"
      ]
     },
     "metadata": {},
     "output_type": "display_data"
    }
   ],
   "source": [
    "#Kabwe temperature distribution plot\n",
    "kabwe_temp_distribution_figure = plt.figure()\n",
    "kabwe_temp_distribution_figure = plt.title('Kabwe Station Maximum and Minimum Temperature Distributions')\n",
    "kabwe_temp_distribution_figure = plt.xlabel('Month')\n",
    "kabwe_temp_distribution_figure = plt.ylabel('Temperature in Celsius')\n",
    "kabwe_temp_distribution_figure = plt.boxplot(kabwe_mintemp_monthly_lists)\n",
    "kabwe_temp_distribution_figure = plt.boxplot(kabwe_maxtemp_monthly_lists)\n",
    "kabwe_temp_distribution_figure = plt.axis([1, 12, 4, 38])\n",
    "kabwe_temp_distribution_figure = plt.show()"
   ]
  },
  {
   "cell_type": "code",
   "execution_count": 226,
   "metadata": {},
   "outputs": [],
   "source": [
    "#Monthly precipitation distribution lists\n",
    "kaoma_monthly_dfs = kaoma_df.groupby('Month')['Precipitation'].apply(list)\n",
    "kasempa_monthly_dfs = kasempa_df.groupby('Month')['Precipitation'].apply(list)"
   ]
  },
  {
   "cell_type": "code",
   "execution_count": 227,
   "metadata": {},
   "outputs": [
    {
     "data": {
      "image/png": "[encoded data removed]",
      "text/plain": [
       "<Figure size 432x288 with 1 Axes>"
      ]
     },
     "metadata": {},
     "output_type": "display_data"
    }
   ],
   "source": [
    "# Kaoma precipitation distribution plot\n",
    "kaoma_precip_distribution_figure = plt.figure()\n",
    "kaoma_precip_distribution_figure = plt.title('Kaoma Station Distribution of Monthly Precipitation')\n",
    "kaoma_precip_distribution_figure = plt.xlabel('Month')\n",
    "kaoma_precip_distribution_figure = plt.ylabel('Precip in mm')\n",
    "kaoma_precip_distribution_figure = plt.boxplot(kaoma_monthly_dfs, notch=True);\n",
    "kaoma_precip_distribution_figure = plt.show()"
   ]
  },
  {
   "cell_type": "code",
   "execution_count": 228,
   "metadata": {},
   "outputs": [
    {
     "data": {
      "image/png": "[encoded data removed]",
      "text/plain": [
       "<Figure size 432x288 with 1 Axes>"
      ]
     },
     "metadata": {},
     "output_type": "display_data"
    }
   ],
   "source": [
    "#Kasempa precipitation distribution plot\n",
    "kasempa_precip_distribution_figure = plt.figure()\n",
    "kasempa_precip_distribution_figure = plt.title('Kasempa Station Distribution of Monthly Precipitation')\n",
    "kasempa_precip_distribution_figure = plt.xlabel('Month')\n",
    "kasempa_precip_distribution_figure = plt.ylabel('Precip in mm')\n",
    "kasempa_precip_distribution_figure = plt.boxplot(kasempa_monthly_dfs, notch = True);"
   ]
  },
  {
   "cell_type": "code",
   "execution_count": 229,
   "metadata": {},
   "outputs": [
    {
     "data": {
      "image/png": "[encoded data removed]",
      "text/plain": [
       "<Figure size 432x288 with 3 Axes>"
      ]
     },
     "metadata": {},
     "output_type": "display_data"
    }
   ],
   "source": [
    "# Kabwe Temperature Plot\n",
    "matplotlib.pyplot.subplot(3, 1, 1)\n",
    "matplotlib.pyplot.title('Kabwe Station Maximum and Minimum Temperature Distributions')\n",
    "matplotlib.pyplot.xlabel('Month')\n",
    "matplotlib.pyplot.ylabel('Temp in Celsius')\n",
    "kabwe_mintemp_monthly_lists = kabwe_df.groupby('Month')['MinTemp'].apply(list)\n",
    "kabwe_maxtemp_monthly_lists = kabwe_df.groupby('Month')['MaxTemp'].apply(list)\n",
    "matplotlib.pyplot.boxplot(kabwe_mintemp_monthly_lists)\n",
    "matplotlib.pyplot.boxplot(kabwe_maxtemp_monthly_lists)\n",
    "matplotlib.pyplot.axis([1, 12, 4, 38])\n",
    "\n",
    "# Kaoma Temperature Plot\n",
    "matplotlib.pyplot.subplot(3, 1, 2)\n",
    "matplotlib.pyplot.title('Kaoma Station Distribution of Monthly Precipitation')\n",
    "matplotlib.pyplot.xlabel('Month')\n",
    "matplotlib.pyplot.ylabel('Precip in mm')\n",
    "kaoma_monthly_dfs = kaoma_df.groupby('Month')['Precipitation'].apply(list)\n",
    "matplotlib.pyplot.boxplot(kaoma_monthly_dfs);\n",
    "\n",
    "# Kasempa Temperature Plot\n",
    "matplotlib.pyplot.subplot(3, 1, 3)\n",
    "matplotlib.pyplot.title('Kasempa Station Distribution of Monthly Precipitation')\n",
    "matplotlib.pyplot.xlabel('Month')\n",
    "matplotlib.pyplot.ylabel('Precip in mm')\n",
    "kasempa_monthly_dfs = kasempa_df.groupby('Month')['Precipitation'].apply(list)\n",
    "matplotlib.pyplot.boxplot(kasempa_monthly_dfs);\n",
    "#the command below should allow them to all plot in the same figure at normal size but it isn't...\n",
    "#figure(figsize=(100, 100))\n",
    "matplotlib.pyplot.tight_layout()\n",
    "matplotlib.pyplot.show()"
   ]
  },
  {
   "cell_type": "code",
   "execution_count": 230,
   "metadata": {},
   "outputs": [
    {
     "name": "stdout",
     "output_type": "stream",
     "text": [
      "                       Kaoma Precipitation  Kasempa Precipitation   MaxTemp  \\\n",
      "Kaoma Precipitation               1.000000               0.867961  0.244924   \n",
      "Kasempa Precipitation             0.867961               1.000000  0.330312   \n",
      "MaxTemp                           0.244924               0.330312  1.000000   \n",
      "MinTemp                           0.615822               0.711987  0.697056   \n",
      "\n",
      "                        MinTemp  \n",
      "Kaoma Precipitation    0.615822  \n",
      "Kasempa Precipitation  0.711987  \n",
      "MaxTemp                0.697056  \n",
      "MinTemp                1.000000  \n"
     ]
    }
   ],
   "source": [
    "timeseries_df.head()\n",
    "print(timeseries_df[['Kaoma Precipitation','Kasempa Precipitation','MaxTemp','MinTemp']].corr())"
   ]
  },
  {
   "cell_type": "markdown",
   "metadata": {},
   "source": [
    "#### <font color = purple>Notes:</font>\n",
    "1. <font color = blue>Temperature is not obviously more correlated with one precipitation dataset or the other\n",
    "     - Kaoma-MinTemp: 0.61 and Kasempa-MinTemp: 0.71 \n",
    "     - Kaoma-MaxTemp: 0.24 and Kasempa-MaxTemp: 0.33\n",
    "     - The correlation between Max and Min Temp is 0.69 "
   ]
  },
  {
   "cell_type": "markdown",
   "metadata": {},
   "source": [
    "# <font color= purple> 2. Generate Baseline Trace Data </font>\n",
    " -  <font color= blue> bootstrap trace dates -</font> stratified by month <br>\n",
    " -  <font color= blue> match trace dates to precipitation -</font> using Kaoma precipitation values <br>\n",
    " -  <font color= blue> match trace dates to temperature -</font> using Kabwe temperature values<br>\n",
    "      1. <font color = blue> by date -</font> else <br>\n",
    "      2. <font color = blue> by month and precipitation strata -</font> else <br>\n",
    "      3. <font color = blue> by month alone -</font> else <br>\n",
    "      4. <font color = blue> by precipitation strata alone -</font> else <br>\n",
    "      5. <font color = blue> at random -</font> should not happen <br>"
   ]
  },
  {
   "cell_type": "markdown",
   "metadata": {},
   "source": [
    "Below we develop 1,000 years of bootstrapped monthly precipitation data, stratified by month. This data is contained in a single 1,000 year long synthetic traces."
   ]
  },
  {
   "cell_type": "markdown",
   "metadata": {},
   "source": [
    "## <font color = purple> Bootstrap Trace Data </font>\n",
    " - <font color = blue> single monthly trace of n years </font> <br>\n",
    " - <font color = blue> stratified by month </font>"
   ]
  },
  {
   "cell_type": "code",
   "execution_count": 231,
   "metadata": {},
   "outputs": [],
   "source": [
    "#Bootstrap method \n",
    "def boostrap(df, sample_df):\n",
    "    #df is a pandas dataframe it must have the following columns: 'strata'\n",
    "    #sample_df is a pandas dataframe it must have the following column: 'strata'\n",
    "    stratalists = df.groupby('strata')['Date'].apply(list)\n",
    "    random.seed(20190609)\n",
    "    sample_df['trace'] = -999\n",
    "    for index, row in sample_df.iterrows():\n",
    "        sublist = stratalists[row['strata']]\n",
    "        selected_date = sublist[int(random.random() / (1 / len(sublist)))]\n",
    "        sample_df.loc[index, 'trace'] = pd.to_datetime(selected_date, format='%Y-%m').date() \n",
    "    return sample_df"
   ]
  },
  {
   "cell_type": "markdown",
   "metadata": {},
   "source": [
    "#### <font color = purple> Input trace time series </font>"
   ]
  },
  {
   "cell_type": "code",
   "execution_count": 232,
   "metadata": {},
   "outputs": [],
   "source": [
    "#Generate sample_df input for bootstrap method - 1000 years of monthly data per trace\n",
    "sample_list = list(range(1, 13, 1))\n",
    "# second value in range determines number of years in trace\n",
    "for i in range(1, 1000, 1):\n",
    "    sample_list.extend(list(range(1, 13, 1)))\n",
    "sample_df = pd.DataFrame(sample_list, columns = ['strata'])"
   ]
  },
  {
   "cell_type": "markdown",
   "metadata": {},
   "source": [
    "#### <font color = purple> Input observed times series from which to bootstrap </font>"
   ]
  },
  {
   "cell_type": "code",
   "execution_count": 233,
   "metadata": {},
   "outputs": [],
   "source": [
    "#Format df input for bootstrap method\n",
    "df = kaoma_df.copy(deep=True)\n",
    "df['Date'] = df.index\n",
    "df = df.rename(columns = {'Month':'strata'})"
   ]
  },
  {
   "cell_type": "markdown",
   "metadata": {},
   "source": [
    "#### <font color = purple> Run bootstrap function </font>"
   ]
  },
  {
   "cell_type": "code",
   "execution_count": 234,
   "metadata": {},
   "outputs": [],
   "source": [
    "trace_dates_df = boostrap(df, sample_df)\n",
    "trace_dates_df = trace_dates_df.rename(columns = {'trace':'Date'})\n",
    "trace_dates_df['Date'] = pd.to_datetime(trace_dates_df['Date'], format='%Y-%m')"
   ]
  },
  {
   "cell_type": "markdown",
   "metadata": {},
   "source": [
    "## <font color = purple> Match Trace Data to Existing Precipitation and Temperature Records </font>\n",
    " - <font color = blue> by date\n",
    " - <font color = blue> by month and/or precipitation strata"
   ]
  },
  {
   "cell_type": "code",
   "execution_count": 235,
   "metadata": {},
   "outputs": [
    {
     "data": {
      "text/html": [
       "<div>\n",
       "<style scoped>\n",
       "    .dataframe tbody tr th:only-of-type {\n",
       "        vertical-align: middle;\n",
       "    }\n",
       "\n",
       "    .dataframe tbody tr th {\n",
       "        vertical-align: top;\n",
       "    }\n",
       "\n",
       "    .dataframe thead th {\n",
       "        text-align: right;\n",
       "    }\n",
       "</style>\n",
       "<table border=\"1\" class=\"dataframe\">\n",
       "  <thead>\n",
       "    <tr style=\"text-align: right;\">\n",
       "      <th></th>\n",
       "      <th>strata</th>\n",
       "      <th>Date</th>\n",
       "      <th>Kasempa Precipitation</th>\n",
       "      <th>Kaoma Precipitation</th>\n",
       "      <th>MaxTemp</th>\n",
       "      <th>MinTemp</th>\n",
       "    </tr>\n",
       "  </thead>\n",
       "  <tbody>\n",
       "    <tr>\n",
       "      <th>0</th>\n",
       "      <td>1</td>\n",
       "      <td>1971-01-01</td>\n",
       "      <td>324.0</td>\n",
       "      <td>279.1</td>\n",
       "      <td>NaN</td>\n",
       "      <td>NaN</td>\n",
       "    </tr>\n",
       "    <tr>\n",
       "      <th>1</th>\n",
       "      <td>2</td>\n",
       "      <td>1979-02-01</td>\n",
       "      <td>229.7</td>\n",
       "      <td>72.1</td>\n",
       "      <td>NaN</td>\n",
       "      <td>NaN</td>\n",
       "    </tr>\n",
       "    <tr>\n",
       "      <th>2</th>\n",
       "      <td>3</td>\n",
       "      <td>1977-03-01</td>\n",
       "      <td>109.3</td>\n",
       "      <td>91.8</td>\n",
       "      <td>NaN</td>\n",
       "      <td>NaN</td>\n",
       "    </tr>\n",
       "    <tr>\n",
       "      <th>3</th>\n",
       "      <td>4</td>\n",
       "      <td>1974-04-01</td>\n",
       "      <td>23.1</td>\n",
       "      <td>14.2</td>\n",
       "      <td>NaN</td>\n",
       "      <td>NaN</td>\n",
       "    </tr>\n",
       "    <tr>\n",
       "      <th>4</th>\n",
       "      <td>5</td>\n",
       "      <td>1972-05-01</td>\n",
       "      <td>0.0</td>\n",
       "      <td>0.0</td>\n",
       "      <td>NaN</td>\n",
       "      <td>NaN</td>\n",
       "    </tr>\n",
       "  </tbody>\n",
       "</table>\n",
       "</div>"
      ],
      "text/plain": [
       "   strata       Date  Kasempa Precipitation  Kaoma Precipitation  MaxTemp  \\\n",
       "0       1 1971-01-01                  324.0                279.1      NaN   \n",
       "1       2 1979-02-01                  229.7                 72.1      NaN   \n",
       "2       3 1977-03-01                  109.3                 91.8      NaN   \n",
       "3       4 1974-04-01                   23.1                 14.2      NaN   \n",
       "4       5 1972-05-01                    0.0                  0.0      NaN   \n",
       "\n",
       "   MinTemp  \n",
       "0      NaN  \n",
       "1      NaN  \n",
       "2      NaN  \n",
       "3      NaN  \n",
       "4      NaN  "
      ]
     },
     "execution_count": 235,
     "metadata": {},
     "output_type": "execute_result"
    }
   ],
   "source": [
    "trace_dates_df = trace_dates_df.merge(timeseries_df, how='left', on='Date')\n",
    "trace_dates_df.head()"
   ]
  },
  {
   "cell_type": "markdown",
   "metadata": {},
   "source": [
    "#### <font color = purple> Add precipitation strata to dataframes </font>"
   ]
  },
  {
   "cell_type": "code",
   "execution_count": 236,
   "metadata": {},
   "outputs": [],
   "source": [
    "trace_dates_df['Kaoma Precip Strata'] = np.nan\n",
    "for index, row in trace_dates_df.iterrows():\n",
    "    trace_dates_df.loc[index, 'Kaoma Precip Strata'] = math.floor(row['Kaoma Precipitation'] / 10) * 10"
   ]
  },
  {
   "cell_type": "code",
   "execution_count": 237,
   "metadata": {},
   "outputs": [],
   "source": [
    "timeseries_kabwe_period_df = timeseries_df.copy(deep = True)\n",
    "timeseries_kabwe_period_df.set_index('Date', inplace=True, drop=True, verify_integrity=True)\n",
    "timeseries_kabwe_period_df = timeseries_kabwe_period_df.loc[kabwe_df.index.min(): kabwe_df.index.max()]\n",
    "timeseries_kabwe_period_df.dropna(inplace=True)\n",
    "timeseries_kabwe_period_df['Kaoma Precip Strata'] = np.nan\n",
    "for index, row in timeseries_kabwe_period_df.iterrows():\n",
    "    timeseries_kabwe_period_df.loc[index, 'Kaoma Precip Strata'] = math.floor(row['Kaoma Precipitation'] / 10) * 10"
   ]
  },
  {
   "cell_type": "markdown",
   "metadata": {},
   "source": [
    "#### <font color = purple> Insert temperature data by month and/or precipitation strata </font> <br>\n",
    "<font color = blue> The temperature and precipitation data do NOT overlap completely in time or space. </font> <br>\n",
    " - the Kaoma precipitation data was recorded from January 1960 - December 1990. <br>\n",
    " - the temperature data was collected from the Kabwe station approximately 400 km to the East. <br>\n",
    " - the Kabwe station data contained records as far back as 1973, but the timeseries is irregular (missing values) <br>\n",
    " - only the Kabwe data from period between January 1980 and December 1997 were used in this analysis. <br>\n",
    "<br>\n",
    "<font color = blue> If bootstrapped date contained a precipitation record but no temperature record </font>\n",
    " - the precipitation value was rounded down toward the lower 10s place. \n",
    " - this effectively places each synthetic precipitation value in a 10 mm wide bin\n",
    " - this precipitation bin along with the synthetic record mon are used as stratification criteria\n",
    " - from these strata temperature records are selected through bootstrapping<br> \n",
    "This allows for the full observed precipitation record (~1960 - 1990) to be used, even though the temperature records must be selected from the shorter 10 year period (~1980 - 1990) over which the precipitation and temperature records overlap. "
   ]
  },
  {
   "cell_type": "code",
   "execution_count": 238,
   "metadata": {},
   "outputs": [
    {
     "data": {
      "text/html": [
       "<div>\n",
       "<style scoped>\n",
       "    .dataframe tbody tr th:only-of-type {\n",
       "        vertical-align: middle;\n",
       "    }\n",
       "\n",
       "    .dataframe tbody tr th {\n",
       "        vertical-align: top;\n",
       "    }\n",
       "\n",
       "    .dataframe thead th {\n",
       "        text-align: right;\n",
       "    }\n",
       "</style>\n",
       "<table border=\"1\" class=\"dataframe\">\n",
       "  <thead>\n",
       "    <tr style=\"text-align: right;\">\n",
       "      <th></th>\n",
       "      <th>Indicator</th>\n",
       "      <th>Method</th>\n",
       "    </tr>\n",
       "  </thead>\n",
       "  <tbody>\n",
       "    <tr>\n",
       "      <th>0</th>\n",
       "      <td>1</td>\n",
       "      <td>date</td>\n",
       "    </tr>\n",
       "    <tr>\n",
       "      <th>1</th>\n",
       "      <td>2</td>\n",
       "      <td>month and precip</td>\n",
       "    </tr>\n",
       "    <tr>\n",
       "      <th>2</th>\n",
       "      <td>3</td>\n",
       "      <td>month</td>\n",
       "    </tr>\n",
       "    <tr>\n",
       "      <th>3</th>\n",
       "      <td>4</td>\n",
       "      <td>precip</td>\n",
       "    </tr>\n",
       "    <tr>\n",
       "      <th>4</th>\n",
       "      <td>5</td>\n",
       "      <td>random</td>\n",
       "    </tr>\n",
       "  </tbody>\n",
       "</table>\n",
       "</div>"
      ],
      "text/plain": [
       "   Indicator            Method\n",
       "0          1              date\n",
       "1          2  month and precip\n",
       "2          3             month\n",
       "3          4            precip\n",
       "4          5            random"
      ]
     },
     "execution_count": 238,
     "metadata": {},
     "output_type": "execute_result"
    }
   ],
   "source": [
    "temperature_fillin_method_df = pd.DataFrame(data = {'Indicator':[1, 2, 3, 4, 5], 'Method':['date', 'month and precip', 'month', 'precip', 'random']})\n",
    "temperature_fillin_method_df.head()"
   ]
  },
  {
   "cell_type": "code",
   "execution_count": 239,
   "metadata": {},
   "outputs": [
    {
     "data": {
      "text/html": [
       "<div>\n",
       "<style scoped>\n",
       "    .dataframe tbody tr th:only-of-type {\n",
       "        vertical-align: middle;\n",
       "    }\n",
       "\n",
       "    .dataframe tbody tr th {\n",
       "        vertical-align: top;\n",
       "    }\n",
       "\n",
       "    .dataframe thead th {\n",
       "        text-align: right;\n",
       "    }\n",
       "</style>\n",
       "<table border=\"1\" class=\"dataframe\">\n",
       "  <thead>\n",
       "    <tr style=\"text-align: right;\">\n",
       "      <th></th>\n",
       "      <th>strata</th>\n",
       "      <th>Date</th>\n",
       "      <th>Kasempa Precipitation</th>\n",
       "      <th>Kaoma Precipitation</th>\n",
       "      <th>MaxTemp</th>\n",
       "      <th>MinTemp</th>\n",
       "      <th>Kaoma Precip Strata</th>\n",
       "      <th>TempFillMethod</th>\n",
       "    </tr>\n",
       "  </thead>\n",
       "  <tbody>\n",
       "    <tr>\n",
       "      <th>0</th>\n",
       "      <td>1</td>\n",
       "      <td>1971-01-01</td>\n",
       "      <td>324.0</td>\n",
       "      <td>279.1</td>\n",
       "      <td>26.3</td>\n",
       "      <td>17.8</td>\n",
       "      <td>270.0</td>\n",
       "      <td>3.0</td>\n",
       "    </tr>\n",
       "    <tr>\n",
       "      <th>1</th>\n",
       "      <td>2</td>\n",
       "      <td>1979-02-01</td>\n",
       "      <td>229.7</td>\n",
       "      <td>72.1</td>\n",
       "      <td>26.8</td>\n",
       "      <td>17.2</td>\n",
       "      <td>70.0</td>\n",
       "      <td>3.0</td>\n",
       "    </tr>\n",
       "    <tr>\n",
       "      <th>2</th>\n",
       "      <td>3</td>\n",
       "      <td>1977-03-01</td>\n",
       "      <td>109.3</td>\n",
       "      <td>91.8</td>\n",
       "      <td>27.1</td>\n",
       "      <td>16.8</td>\n",
       "      <td>90.0</td>\n",
       "      <td>3.0</td>\n",
       "    </tr>\n",
       "    <tr>\n",
       "      <th>3</th>\n",
       "      <td>4</td>\n",
       "      <td>1974-04-01</td>\n",
       "      <td>23.1</td>\n",
       "      <td>14.2</td>\n",
       "      <td>26.0</td>\n",
       "      <td>15.7</td>\n",
       "      <td>10.0</td>\n",
       "      <td>3.0</td>\n",
       "    </tr>\n",
       "    <tr>\n",
       "      <th>4</th>\n",
       "      <td>5</td>\n",
       "      <td>1972-05-01</td>\n",
       "      <td>0.0</td>\n",
       "      <td>0.0</td>\n",
       "      <td>25.6</td>\n",
       "      <td>11.1</td>\n",
       "      <td>0.0</td>\n",
       "      <td>2.0</td>\n",
       "    </tr>\n",
       "  </tbody>\n",
       "</table>\n",
       "</div>"
      ],
      "text/plain": [
       "   strata       Date  Kasempa Precipitation  Kaoma Precipitation  MaxTemp  \\\n",
       "0       1 1971-01-01                  324.0                279.1     26.3   \n",
       "1       2 1979-02-01                  229.7                 72.1     26.8   \n",
       "2       3 1977-03-01                  109.3                 91.8     27.1   \n",
       "3       4 1974-04-01                   23.1                 14.2     26.0   \n",
       "4       5 1972-05-01                    0.0                  0.0     25.6   \n",
       "\n",
       "   MinTemp  Kaoma Precip Strata  TempFillMethod  \n",
       "0     17.8                270.0             3.0  \n",
       "1     17.2                 70.0             3.0  \n",
       "2     16.8                 90.0             3.0  \n",
       "3     15.7                 10.0             3.0  \n",
       "4     11.1                  0.0             2.0  "
      ]
     },
     "execution_count": 239,
     "metadata": {},
     "output_type": "execute_result"
    }
   ],
   "source": [
    "trace_df = trace_dates_df.copy(deep = True)\n",
    "for index, row in trace_df.iterrows():\n",
    "    #trace_dates_df['TM'] = np.nan\n",
    "    if np.isnan(row['MaxTemp']) or np.isnan(row['MinTemp']):\n",
    "        month_strata_df = timeseries_kabwe_period_df.loc[timeseries_kabwe_period_df.index.month == row['strata']]\n",
    "        if month_strata_df.empty:\n",
    "            precip_strata_df = timeseries_kabwe_period_df.loc[timeseries_kabwe_period_df['Kaoma Precip Strata'] == row['Kaoma Precip Strata']]\n",
    "            if precip_strata_df.empty:\n",
    "                sample = timeseries_kabwe_period_df.sample(n = 1)\n",
    "                trace_df.at[index,'MaxTemp'] = sample['MaxTemp']\n",
    "                trace_df.at[index,'MinTemp'] = sample['MinTemp']\n",
    "                trace_df.at[index,'TempFillMethod'] = 5\n",
    "            else:\n",
    "                sample = precip_strata_df.sample(n = 1)\n",
    "                trace_df.at[index,'MaxTemp'] = sample['MaxTemp']\n",
    "                trace_df.at[index,'MinTemp'] = sample['MinTemp']\n",
    "                trace_df.at[index,'TempFillMethod'] = 4\n",
    "        else:\n",
    "            precip_strata_df = month_strata_df.loc[month_strata_df['Kaoma Precip Strata'] == row['Kaoma Precip Strata']]\n",
    "            if precip_strata_df.empty:\n",
    "                sample = month_strata_df.sample(n = 1)\n",
    "                trace_df.at[index,'MaxTemp'] = sample['MaxTemp']\n",
    "                trace_df.at[index,'MinTemp'] = sample['MinTemp']\n",
    "                trace_df.at[index,'TempFillMethod'] = 3\n",
    "            else:\n",
    "                sample = precip_strata_df.sample(n = 1)\n",
    "                trace_df.at[index,'MaxTemp'] = sample['MaxTemp']\n",
    "                trace_df.at[index,'MinTemp'] = sample['MinTemp']\n",
    "                trace_df.at[index,'TempFillMethod'] = 2\n",
    "    else:\n",
    "        trace_df.at[index,'TempFillMethod'] = 1\n",
    "trace_df.head()"
   ]
  },
  {
   "cell_type": "code",
   "execution_count": 240,
   "metadata": {},
   "outputs": [
    {
     "data": {
      "text/html": [
       "<div>\n",
       "<style scoped>\n",
       "    .dataframe tbody tr th:only-of-type {\n",
       "        vertical-align: middle;\n",
       "    }\n",
       "\n",
       "    .dataframe tbody tr th {\n",
       "        vertical-align: top;\n",
       "    }\n",
       "\n",
       "    .dataframe thead th {\n",
       "        text-align: right;\n",
       "    }\n",
       "</style>\n",
       "<table border=\"1\" class=\"dataframe\">\n",
       "  <thead>\n",
       "    <tr style=\"text-align: right;\">\n",
       "      <th></th>\n",
       "      <th>strata</th>\n",
       "      <th>Date</th>\n",
       "      <th>Kasempa Precipitation</th>\n",
       "      <th>Kaoma Precipitation</th>\n",
       "      <th>MaxTemp</th>\n",
       "      <th>MinTemp</th>\n",
       "      <th>Kaoma Precip Strata</th>\n",
       "      <th>TempFillMethod</th>\n",
       "      <th>Year</th>\n",
       "    </tr>\n",
       "  </thead>\n",
       "  <tbody>\n",
       "    <tr>\n",
       "      <th>0</th>\n",
       "      <td>1</td>\n",
       "      <td>1971-01-01</td>\n",
       "      <td>324.0</td>\n",
       "      <td>279.1</td>\n",
       "      <td>26.3</td>\n",
       "      <td>17.8</td>\n",
       "      <td>270.0</td>\n",
       "      <td>3.0</td>\n",
       "      <td>1.0</td>\n",
       "    </tr>\n",
       "    <tr>\n",
       "      <th>1</th>\n",
       "      <td>2</td>\n",
       "      <td>1979-02-01</td>\n",
       "      <td>229.7</td>\n",
       "      <td>72.1</td>\n",
       "      <td>26.8</td>\n",
       "      <td>17.2</td>\n",
       "      <td>70.0</td>\n",
       "      <td>3.0</td>\n",
       "      <td>1.0</td>\n",
       "    </tr>\n",
       "    <tr>\n",
       "      <th>2</th>\n",
       "      <td>3</td>\n",
       "      <td>1977-03-01</td>\n",
       "      <td>109.3</td>\n",
       "      <td>91.8</td>\n",
       "      <td>27.1</td>\n",
       "      <td>16.8</td>\n",
       "      <td>90.0</td>\n",
       "      <td>3.0</td>\n",
       "      <td>1.0</td>\n",
       "    </tr>\n",
       "    <tr>\n",
       "      <th>3</th>\n",
       "      <td>4</td>\n",
       "      <td>1974-04-01</td>\n",
       "      <td>23.1</td>\n",
       "      <td>14.2</td>\n",
       "      <td>26.0</td>\n",
       "      <td>15.7</td>\n",
       "      <td>10.0</td>\n",
       "      <td>3.0</td>\n",
       "      <td>1.0</td>\n",
       "    </tr>\n",
       "    <tr>\n",
       "      <th>4</th>\n",
       "      <td>5</td>\n",
       "      <td>1972-05-01</td>\n",
       "      <td>0.0</td>\n",
       "      <td>0.0</td>\n",
       "      <td>25.6</td>\n",
       "      <td>11.1</td>\n",
       "      <td>0.0</td>\n",
       "      <td>2.0</td>\n",
       "      <td>1.0</td>\n",
       "    </tr>\n",
       "  </tbody>\n",
       "</table>\n",
       "</div>"
      ],
      "text/plain": [
       "   strata       Date  Kasempa Precipitation  Kaoma Precipitation  MaxTemp  \\\n",
       "0       1 1971-01-01                  324.0                279.1     26.3   \n",
       "1       2 1979-02-01                  229.7                 72.1     26.8   \n",
       "2       3 1977-03-01                  109.3                 91.8     27.1   \n",
       "3       4 1974-04-01                   23.1                 14.2     26.0   \n",
       "4       5 1972-05-01                    0.0                  0.0     25.6   \n",
       "\n",
       "   MinTemp  Kaoma Precip Strata  TempFillMethod  Year  \n",
       "0     17.8                270.0             3.0   1.0  \n",
       "1     17.2                 70.0             3.0   1.0  \n",
       "2     16.8                 90.0             3.0   1.0  \n",
       "3     15.7                 10.0             3.0   1.0  \n",
       "4     11.1                  0.0             2.0   1.0  "
      ]
     },
     "execution_count": 240,
     "metadata": {},
     "output_type": "execute_result"
    }
   ],
   "source": [
    "year = 1\n",
    "for index, row in trace_df.iterrows():\n",
    "    trace_df.at[index, 'Year'] = int(year)\n",
    "    if row['strata'] == 12:\n",
    "        year = year + 1\n",
    "trace_df.head()"
   ]
  },
  {
   "cell_type": "code",
   "execution_count": 241,
   "metadata": {},
   "outputs": [
    {
     "data": {
      "image/png": "[encoded data removed]",
      "text/plain": [
       "<Figure size 432x288 with 1 Axes>"
      ]
     },
     "metadata": {},
     "output_type": "display_data"
    }
   ],
   "source": [
    "#Temperature fill in method plot (1 = Date, 2 = Month and Precip, 3 = Month, 4 = Precip, 5 = Error)\n",
    "temp_fill_method_distribution_figure = plt.figure()\n",
    "temp_fill_method__figure = plt.title('Distribution of Tempature Fill Methods')\n",
    "temp_fill_method__figure = plt.ylabel('Count')\n",
    "temp_fill_method__figure = plt.hist(trace_df['TempFillMethod'], color='grey', fill=False)\n",
    "temp_fill_method__figure = plt.show()"
   ]
  },
  {
   "cell_type": "code",
   "execution_count": 242,
   "metadata": {},
   "outputs": [
    {
     "data": {
      "image/png": "[encoded data removed]",
      "text/plain": [
       "<Figure size 432x288 with 1 Axes>"
      ]
     },
     "metadata": {},
     "output_type": "display_data"
    }
   ],
   "source": [
    "# Kaoma precipitation distribution plot\n",
    "baseline_observed_precip_comparison_figure = plt.figure()\n",
    "baseline_observed_precip_comparison_figure = plt.title('Distribution of Monthly Precipitation')\n",
    "baseline_observed_precip_comparison_figure = plt.xlabel('Month')\n",
    "baseline_observed_precip_comparison_figure = plt.ylabel('Precip in mm')\n",
    "baseline_observed_precip_comparison_figure = plt.boxplot(trace_dfs, notch = True);\n",
    "baseline_observed_precip_comparison_figure = plt.boxplot(kaoma_monthly_dfs, notch = True);\n",
    "baseline_observed_precip_comparison_figure = plt.show()"
   ]
  },
  {
   "cell_type": "code",
   "execution_count": 243,
   "metadata": {},
   "outputs": [
    {
     "data": {
      "image/png": "[encoded data removed]",
      "text/plain": [
       "<Figure size 432x288 with 2 Axes>"
      ]
     },
     "metadata": {},
     "output_type": "display_data"
    }
   ],
   "source": [
    "plt.subplot(1, 2, 1)\n",
    "plt.title('Synthetic')\n",
    "plt.xlabel('Month')\n",
    "plt.ylabel('Precipitation in mm')\n",
    "plt.boxplot(trace_dfs, notch = True)\n",
    "\n",
    "plt.subplot(1, 2, 2)\n",
    "plt.title('Observed')\n",
    "plt.xlabel('Month')\n",
    "plt.ylabel('Precipitation in mm')\n",
    "plt.boxplot(kaoma_monthly_dfs, notch = True)\n",
    "\n",
    "plt.tight_layout()\n",
    "plt.show()"
   ]
  },
  {
   "cell_type": "code",
   "execution_count": 244,
   "metadata": {},
   "outputs": [
    {
     "data": {
      "image/png": "[encoded data removed]",
      "text/plain": [
       "<Figure size 432x288 with 2 Axes>"
      ]
     },
     "metadata": {},
     "output_type": "display_data"
    }
   ],
   "source": [
    "trace_year_df = trace_df.drop(['strata', 'MaxTemp', 'MinTemp'], axis = 1)\n",
    "trace_year_df = trace_df.groupby('Year').sum()\n",
    "#kaoma_year_df_plt = kaoma_year_df.groupby('Year').sum()\n",
    "\n",
    "plt.subplot(1, 2, 1)\n",
    "plt.title('Synthetic')\n",
    "plt.ylabel('Precipitation in mm')\n",
    "plt.boxplot(trace_year_df['Kaoma Precipitation'], notch = True)\n",
    "\n",
    "plt.subplot(1, 2, 2)\n",
    "plt.title('Observed')\n",
    "plt.ylabel('Precipitation in mm')\n",
    "plt.boxplot(kaoma_year_df['Precipitation'], notch = True)\n",
    "matplotlib.pyplot.axis([0.5, 1.5, 350, 1650])\n",
    "\n",
    "plt.tight_layout()\n",
    "plt.show()"
   ]
  },
  {
   "cell_type": "code",
   "execution_count": 245,
   "metadata": {},
   "outputs": [
    {
     "data": {
      "text/html": [
       "<div>\n",
       "<style scoped>\n",
       "    .dataframe tbody tr th:only-of-type {\n",
       "        vertical-align: middle;\n",
       "    }\n",
       "\n",
       "    .dataframe tbody tr th {\n",
       "        vertical-align: top;\n",
       "    }\n",
       "\n",
       "    .dataframe thead th {\n",
       "        text-align: right;\n",
       "    }\n",
       "</style>\n",
       "<table border=\"1\" class=\"dataframe\">\n",
       "  <thead>\n",
       "    <tr style=\"text-align: right;\">\n",
       "      <th></th>\n",
       "      <th>strata</th>\n",
       "      <th>Date</th>\n",
       "      <th>Kasempa Precipitation</th>\n",
       "      <th>Kaoma Precipitation</th>\n",
       "      <th>MaxTemp</th>\n",
       "      <th>MinTemp</th>\n",
       "      <th>Kaoma Precip Strata</th>\n",
       "      <th>TempFillMethod</th>\n",
       "      <th>Year</th>\n",
       "    </tr>\n",
       "  </thead>\n",
       "  <tbody>\n",
       "    <tr>\n",
       "      <th>0</th>\n",
       "      <td>1</td>\n",
       "      <td>1971-01-01</td>\n",
       "      <td>324.0</td>\n",
       "      <td>279.1</td>\n",
       "      <td>26.3</td>\n",
       "      <td>17.8</td>\n",
       "      <td>270.0</td>\n",
       "      <td>3.0</td>\n",
       "      <td>1.0</td>\n",
       "    </tr>\n",
       "    <tr>\n",
       "      <th>1</th>\n",
       "      <td>2</td>\n",
       "      <td>1979-02-01</td>\n",
       "      <td>229.7</td>\n",
       "      <td>72.1</td>\n",
       "      <td>26.8</td>\n",
       "      <td>17.2</td>\n",
       "      <td>70.0</td>\n",
       "      <td>3.0</td>\n",
       "      <td>1.0</td>\n",
       "    </tr>\n",
       "    <tr>\n",
       "      <th>2</th>\n",
       "      <td>3</td>\n",
       "      <td>1977-03-01</td>\n",
       "      <td>109.3</td>\n",
       "      <td>91.8</td>\n",
       "      <td>27.1</td>\n",
       "      <td>16.8</td>\n",
       "      <td>90.0</td>\n",
       "      <td>3.0</td>\n",
       "      <td>1.0</td>\n",
       "    </tr>\n",
       "    <tr>\n",
       "      <th>3</th>\n",
       "      <td>4</td>\n",
       "      <td>1974-04-01</td>\n",
       "      <td>23.1</td>\n",
       "      <td>14.2</td>\n",
       "      <td>26.0</td>\n",
       "      <td>15.7</td>\n",
       "      <td>10.0</td>\n",
       "      <td>3.0</td>\n",
       "      <td>1.0</td>\n",
       "    </tr>\n",
       "    <tr>\n",
       "      <th>4</th>\n",
       "      <td>5</td>\n",
       "      <td>1972-05-01</td>\n",
       "      <td>0.0</td>\n",
       "      <td>0.0</td>\n",
       "      <td>25.6</td>\n",
       "      <td>11.1</td>\n",
       "      <td>0.0</td>\n",
       "      <td>2.0</td>\n",
       "      <td>1.0</td>\n",
       "    </tr>\n",
       "  </tbody>\n",
       "</table>\n",
       "</div>"
      ],
      "text/plain": [
       "   strata       Date  Kasempa Precipitation  Kaoma Precipitation  MaxTemp  \\\n",
       "0       1 1971-01-01                  324.0                279.1     26.3   \n",
       "1       2 1979-02-01                  229.7                 72.1     26.8   \n",
       "2       3 1977-03-01                  109.3                 91.8     27.1   \n",
       "3       4 1974-04-01                   23.1                 14.2     26.0   \n",
       "4       5 1972-05-01                    0.0                  0.0     25.6   \n",
       "\n",
       "   MinTemp  Kaoma Precip Strata  TempFillMethod  Year  \n",
       "0     17.8                270.0             3.0   1.0  \n",
       "1     17.2                 70.0             3.0   1.0  \n",
       "2     16.8                 90.0             3.0   1.0  \n",
       "3     15.7                 10.0             3.0   1.0  \n",
       "4     11.1                  0.0             2.0   1.0  "
      ]
     },
     "execution_count": 245,
     "metadata": {},
     "output_type": "execute_result"
    }
   ],
   "source": [
    "trace_df.head()"
   ]
  },
  {
   "cell_type": "code",
   "execution_count": 248,
   "metadata": {},
   "outputs": [],
   "source": [
    "baseline_df = trace_df.copy(deep = True)\n",
    "baseline_df['sample_date'] = trace_df.Date.apply(lambda x: x.strftime('%m-%d-%Y'))\n",
    "baseline_df = baseline_df.drop(['Date', 'Kaoma Precip Strata'], axis = 1)\n",
    "baseline_df = baseline_df.rename(columns = {'strata':'month'})\n",
    "baseline_df = baseline_df.rename(columns = {'Kasempa Precipitation':'kasempa_precip'})\n",
    "baseline_df = baseline_df.rename(columns = {'Kaoma Precipitation':'kaoma_precip'})\n",
    "baseline_df = baseline_df.rename(columns = {'MaxTemp':'max_temp'})\n",
    "baseline_df = baseline_df.rename(columns = {'MinTemp':'min_temp'})\n",
    "baseline_df = baseline_df.rename(columns = {'TempFillMethod':'temp_fill_indicator'})\n",
    "baseline_df = baseline_df.rename(columns = {'Year':'year'})\n",
    "baseline_df['year'].apply(lambda x: int(x))\n",
    "baseline_df.to_csv('Outputs/trace_baseline.csv')"
   ]
  },
  {
   "cell_type": "code",
   "execution_count": 249,
   "metadata": {},
   "outputs": [
    {
     "data": {
      "text/html": [
       "<div>\n",
       "<style scoped>\n",
       "    .dataframe tbody tr th:only-of-type {\n",
       "        vertical-align: middle;\n",
       "    }\n",
       "\n",
       "    .dataframe tbody tr th {\n",
       "        vertical-align: top;\n",
       "    }\n",
       "\n",
       "    .dataframe thead th {\n",
       "        text-align: right;\n",
       "    }\n",
       "</style>\n",
       "<table border=\"1\" class=\"dataframe\">\n",
       "  <thead>\n",
       "    <tr style=\"text-align: right;\">\n",
       "      <th></th>\n",
       "      <th>month</th>\n",
       "      <th>kasempa_precip</th>\n",
       "      <th>kaoma_precip</th>\n",
       "      <th>max_temp</th>\n",
       "      <th>min_temp</th>\n",
       "      <th>temp_fill_indicator</th>\n",
       "      <th>year</th>\n",
       "      <th>sample_date</th>\n",
       "    </tr>\n",
       "  </thead>\n",
       "  <tbody>\n",
       "    <tr>\n",
       "      <th>0</th>\n",
       "      <td>1</td>\n",
       "      <td>324.0</td>\n",
       "      <td>279.1</td>\n",
       "      <td>26.3</td>\n",
       "      <td>17.8</td>\n",
       "      <td>3.0</td>\n",
       "      <td>1.0</td>\n",
       "      <td>01-01-1971</td>\n",
       "    </tr>\n",
       "    <tr>\n",
       "      <th>1</th>\n",
       "      <td>2</td>\n",
       "      <td>229.7</td>\n",
       "      <td>72.1</td>\n",
       "      <td>26.8</td>\n",
       "      <td>17.2</td>\n",
       "      <td>3.0</td>\n",
       "      <td>1.0</td>\n",
       "      <td>02-01-1979</td>\n",
       "    </tr>\n",
       "    <tr>\n",
       "      <th>2</th>\n",
       "      <td>3</td>\n",
       "      <td>109.3</td>\n",
       "      <td>91.8</td>\n",
       "      <td>27.1</td>\n",
       "      <td>16.8</td>\n",
       "      <td>3.0</td>\n",
       "      <td>1.0</td>\n",
       "      <td>03-01-1977</td>\n",
       "    </tr>\n",
       "    <tr>\n",
       "      <th>3</th>\n",
       "      <td>4</td>\n",
       "      <td>23.1</td>\n",
       "      <td>14.2</td>\n",
       "      <td>26.0</td>\n",
       "      <td>15.7</td>\n",
       "      <td>3.0</td>\n",
       "      <td>1.0</td>\n",
       "      <td>04-01-1974</td>\n",
       "    </tr>\n",
       "    <tr>\n",
       "      <th>4</th>\n",
       "      <td>5</td>\n",
       "      <td>0.0</td>\n",
       "      <td>0.0</td>\n",
       "      <td>25.6</td>\n",
       "      <td>11.1</td>\n",
       "      <td>2.0</td>\n",
       "      <td>1.0</td>\n",
       "      <td>05-01-1972</td>\n",
       "    </tr>\n",
       "  </tbody>\n",
       "</table>\n",
       "</div>"
      ],
      "text/plain": [
       "   month  kasempa_precip  kaoma_precip  max_temp  min_temp  \\\n",
       "0      1           324.0         279.1      26.3      17.8   \n",
       "1      2           229.7          72.1      26.8      17.2   \n",
       "2      3           109.3          91.8      27.1      16.8   \n",
       "3      4            23.1          14.2      26.0      15.7   \n",
       "4      5             0.0           0.0      25.6      11.1   \n",
       "\n",
       "   temp_fill_indicator  year sample_date  \n",
       "0                  3.0   1.0  01-01-1971  \n",
       "1                  3.0   1.0  02-01-1979  \n",
       "2                  3.0   1.0  03-01-1977  \n",
       "3                  3.0   1.0  04-01-1974  \n",
       "4                  2.0   1.0  05-01-1972  "
      ]
     },
     "execution_count": 249,
     "metadata": {},
     "output_type": "execute_result"
    }
   ],
   "source": [
    "baseline_df.head()"
   ]
  }
 ],
 "metadata": {
  "kernelspec": {
   "display_name": "Python 3",
   "language": "python",
   "name": "python3"
  },
  "language_info": {
   "codemirror_mode": {
    "name": "ipython",
    "version": 3
   },
   "file_extension": ".py",
   "mimetype": "text/x-python",
   "name": "python",
   "nbconvert_exporter": "python",
   "pygments_lexer": "ipython3",
   "version": "3.6.5"
  }
 },
 "nbformat": 4,
 "nbformat_minor": 2
}
