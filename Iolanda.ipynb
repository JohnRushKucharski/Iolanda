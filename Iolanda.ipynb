{
 "cells": [
  {
   "cell_type": "code",
   "execution_count": 2,
   "metadata": {},
   "outputs": [],
   "source": [
    "import os\n",
    "import math\n",
    "import pandas\n",
    "import numpy\n",
    "import random\n",
    "import statistics\n",
    "import datetime\n",
    "#import plotly\n",
    "#import plotly.plotly as plot\n",
    "#import plotly.graph_objs as plot_object\n",
    "import matplotlib.pyplot"
   ]
  },
  {
   "cell_type": "markdown",
   "metadata": {},
   "source": [
    "# <font color=pink>0. Setup </font>\n",
    " - set working directory\n",
    " - import data files"
   ]
  },
  {
   "cell_type": "code",
   "execution_count": 3,
   "metadata": {},
   "outputs": [],
   "source": [
    "os.chdir(\"C:/Users/q0hecjrk/Documents/_Data/Iolanda/\")\n"
   ]
  },
  {
   "cell_type": "code",
   "execution_count": 3,
   "metadata": {},
   "outputs": [
    {
     "data": {
      "text/html": [
       "<div>\n",
       "<style scoped>\n",
       "    .dataframe tbody tr th:only-of-type {\n",
       "        vertical-align: middle;\n",
       "    }\n",
       "\n",
       "    .dataframe tbody tr th {\n",
       "        vertical-align: top;\n",
       "    }\n",
       "\n",
       "    .dataframe thead th {\n",
       "        text-align: right;\n",
       "    }\n",
       "</style>\n",
       "<table border=\"1\" class=\"dataframe\">\n",
       "  <thead>\n",
       "    <tr style=\"text-align: right;\">\n",
       "      <th></th>\n",
       "      <th>Year</th>\n",
       "      <th>Month</th>\n",
       "      <th>Season</th>\n",
       "      <th>Precipitation</th>\n",
       "      <th>Date</th>\n",
       "      <th>DateTime</th>\n",
       "    </tr>\n",
       "  </thead>\n",
       "  <tbody>\n",
       "    <tr>\n",
       "      <th>0</th>\n",
       "      <td>1961</td>\n",
       "      <td>1</td>\n",
       "      <td>1</td>\n",
       "      <td>242.5</td>\n",
       "      <td>1961-01-01</td>\n",
       "      <td>1961-01-01</td>\n",
       "    </tr>\n",
       "    <tr>\n",
       "      <th>1</th>\n",
       "      <td>1961</td>\n",
       "      <td>2</td>\n",
       "      <td>1</td>\n",
       "      <td>209.1</td>\n",
       "      <td>1961-02-01</td>\n",
       "      <td>1961-02-01</td>\n",
       "    </tr>\n",
       "    <tr>\n",
       "      <th>2</th>\n",
       "      <td>1961</td>\n",
       "      <td>3</td>\n",
       "      <td>1</td>\n",
       "      <td>97.6</td>\n",
       "      <td>1961-03-01</td>\n",
       "      <td>1961-03-01</td>\n",
       "    </tr>\n",
       "    <tr>\n",
       "      <th>3</th>\n",
       "      <td>1961</td>\n",
       "      <td>4</td>\n",
       "      <td>1</td>\n",
       "      <td>5.6</td>\n",
       "      <td>1961-04-01</td>\n",
       "      <td>1961-04-01</td>\n",
       "    </tr>\n",
       "    <tr>\n",
       "      <th>4</th>\n",
       "      <td>1961</td>\n",
       "      <td>5</td>\n",
       "      <td>0</td>\n",
       "      <td>0.0</td>\n",
       "      <td>1961-05-01</td>\n",
       "      <td>1961-05-01</td>\n",
       "    </tr>\n",
       "  </tbody>\n",
       "</table>\n",
       "</div>"
      ],
      "text/plain": [
       "   Year  Month  Season  Precipitation        Date   DateTime\n",
       "0  1961      1       1          242.5  1961-01-01 1961-01-01\n",
       "1  1961      2       1          209.1  1961-02-01 1961-02-01\n",
       "2  1961      3       1           97.6  1961-03-01 1961-03-01\n",
       "3  1961      4       1            5.6  1961-04-01 1961-04-01\n",
       "4  1961      5       0            0.0  1961-05-01 1961-05-01"
      ]
     },
     "execution_count": 3,
     "metadata": {},
     "output_type": "execute_result"
    }
   ],
   "source": [
    "kaoma_df = pandas.read_csv(\"Inputs/Precipitation_Kaoma.csv\")\n",
    "kaoma_df['Date'] = -999\n",
    "for index, row in kaoma_df.iterrows():\n",
    "    kaoma_df.loc[index, 'Date'] = datetime.date(int(row['Year']), int(row['Month']), 1)\n",
    "kaoma_df['DateTime'] = pandas.to_datetime(kaoma_df.Year.astype(str)+'-'+kaoma_df.Month.astype(str),format='%Y-%m')\n",
    "kaoma_df.set_index('Date')\n",
    "kaoma_df.head()"
   ]
  },
  {
   "cell_type": "markdown",
   "metadata": {},
   "source": [
    "# <font color = pink>1. Examine Input Data </font>\n",
    "    ###1.2. Precipitation Data - The 2 nearest NOAA precipitation guages were evaluated (http://www.ncdc.noaa.gov/)\n",
    "         - The Kaoma station:  (NOAA KAOMA DATA FOR STATION GHCND:ZA000067641)\n"
   ]
  },
  {
   "cell_type": "markdown",
   "metadata": {},
   "source": [
    "2 NOAA precipitation records were evaluated during the analysis. (http://www.ncdc.noaa.gov/)\n",
    "The Kaoma station (NOAA KAOMA DATA FOR STATION GHCND:ZA000067641) contained monthly data taken from January 1961 - December 1990"
   ]
  },
  {
   "cell_type": "markdown",
   "metadata": {},
   "source": [
    "The Kasempa station record contained monthly precipitation taken from January 1950 - December 1990"
   ]
  },
  {
   "cell_type": "code",
   "execution_count": 4,
   "metadata": {},
   "outputs": [
    {
     "data": {
      "text/html": [
       "<div>\n",
       "<style scoped>\n",
       "    .dataframe tbody tr th:only-of-type {\n",
       "        vertical-align: middle;\n",
       "    }\n",
       "\n",
       "    .dataframe tbody tr th {\n",
       "        vertical-align: top;\n",
       "    }\n",
       "\n",
       "    .dataframe thead th {\n",
       "        text-align: right;\n",
       "    }\n",
       "</style>\n",
       "<table border=\"1\" class=\"dataframe\">\n",
       "  <thead>\n",
       "    <tr style=\"text-align: right;\">\n",
       "      <th></th>\n",
       "      <th>Year</th>\n",
       "      <th>Month</th>\n",
       "      <th>Season</th>\n",
       "      <th>Precipitation</th>\n",
       "      <th>Date</th>\n",
       "      <th>DateTime</th>\n",
       "    </tr>\n",
       "  </thead>\n",
       "  <tbody>\n",
       "    <tr>\n",
       "      <th>0</th>\n",
       "      <td>1950</td>\n",
       "      <td>1</td>\n",
       "      <td>1</td>\n",
       "      <td>293.1</td>\n",
       "      <td>1950-01-01</td>\n",
       "      <td>1950-01-01</td>\n",
       "    </tr>\n",
       "    <tr>\n",
       "      <th>1</th>\n",
       "      <td>1950</td>\n",
       "      <td>2</td>\n",
       "      <td>1</td>\n",
       "      <td>97.8</td>\n",
       "      <td>1950-02-01</td>\n",
       "      <td>1950-02-01</td>\n",
       "    </tr>\n",
       "    <tr>\n",
       "      <th>2</th>\n",
       "      <td>1950</td>\n",
       "      <td>3</td>\n",
       "      <td>1</td>\n",
       "      <td>108.4</td>\n",
       "      <td>1950-03-01</td>\n",
       "      <td>1950-03-01</td>\n",
       "    </tr>\n",
       "    <tr>\n",
       "      <th>3</th>\n",
       "      <td>1950</td>\n",
       "      <td>4</td>\n",
       "      <td>1</td>\n",
       "      <td>0.0</td>\n",
       "      <td>1950-04-01</td>\n",
       "      <td>1950-04-01</td>\n",
       "    </tr>\n",
       "    <tr>\n",
       "      <th>4</th>\n",
       "      <td>1950</td>\n",
       "      <td>5</td>\n",
       "      <td>0</td>\n",
       "      <td>0.0</td>\n",
       "      <td>1950-05-01</td>\n",
       "      <td>1950-05-01</td>\n",
       "    </tr>\n",
       "  </tbody>\n",
       "</table>\n",
       "</div>"
      ],
      "text/plain": [
       "   Year  Month  Season  Precipitation        Date   DateTime\n",
       "0  1950      1       1          293.1  1950-01-01 1950-01-01\n",
       "1  1950      2       1           97.8  1950-02-01 1950-02-01\n",
       "2  1950      3       1          108.4  1950-03-01 1950-03-01\n",
       "3  1950      4       1            0.0  1950-04-01 1950-04-01\n",
       "4  1950      5       0            0.0  1950-05-01 1950-05-01"
      ]
     },
     "execution_count": 4,
     "metadata": {},
     "output_type": "execute_result"
    }
   ],
   "source": [
    "kasempa_df = pandas.read_csv(\"Inputs/Precipitation_Kasempa.csv\")\n",
    "kaoma_df['Date'] = -999\n",
    "for index, row in kasempa_df.iterrows():\n",
    "    kasempa_df.loc[index, 'Date'] = datetime.date(int(row['Year']), int(row['Month']), 1)\n",
    "kasempa_df['DateTime'] = pandas.to_datetime(kasempa_df.Year.astype(str)+'-'+kasempa_df.Month.astype(str),format='%Y-%m')\n",
    "kasempa_df.set_index('Date')\n",
    "kasempa_df.head()"
   ]
  },
  {
   "cell_type": "code",
   "execution_count": 5,
   "metadata": {},
   "outputs": [
    {
     "data": {
      "image/png": "[encoded data removed]",
      "text/plain": [
       "<Figure size 432x288 with 1 Axes>"
      ]
     },
     "metadata": {},
     "output_type": "display_data"
    }
   ],
   "source": [
    "#kaoma_line = plot_object.Scatter(x = kaoma_df['Date'], y = kaoma_df['Precipitation'], mode = 'lines', name = 'kaoma precipitation')\n",
    "#kasempa_line = plot_object.Scatter(x = kasempa_df['Date'], y = kasempa_df['Precipitation'], mode = 'lines', name = 'kasempa precipitation')\n",
    "#plot_data = [kaoma_line, kasempa_line]\n",
    "#plot.iplot(plot_data, filename='Monthly Precipitation Data')\n",
    "matplotlib.pyplot.plot(kasempa_df['DateTime'], kasempa_df['Precipitation'])\n",
    "matplotlib.pyplot.plot(kaoma_df['DateTime'], kaoma_df['Precipitation'])\n",
    "matplotlib.pyplot.ylabel(\"Precipitation in mm\")\n",
    "matplotlib.pyplot.show()\n",
    "#fails with Date as X but not DateTime?"
   ]
  },
  {
   "cell_type": "markdown",
   "metadata": {},
   "source": [
    "How well correlated are these data?"
   ]
  },
  {
   "cell_type": "code",
   "execution_count": 6,
   "metadata": {},
   "outputs": [
    {
     "data": {
      "image/png": "[encoded data removed]",
      "text/plain": [
       "<Figure size 432x288 with 1 Axes>"
      ]
     },
     "metadata": {},
     "output_type": "display_data"
    }
   ],
   "source": [
    "kasempa_overlap_df = kasempa_df.loc[kaoma_df.index.min(): kaoma_df.index.max()]\n",
    "matplotlib.pyplot.axis([0, 500, 0, 500])\n",
    "matplotlib.pyplot.plot([0, 500], [0, 500], 'r--')\n",
    "matplotlib.pyplot.scatter(kasempa_overlap_df['Precipitation'], kaoma_df['Precipitation'])\n",
    "matplotlib.pyplot.xlabel(\"Kasempa Station Precipitation\")\n",
    "matplotlib.pyplot.ylabel(\"Kaoma Station Precipitation\")\n",
    "matplotlib.pyplot.show()"
   ]
  },
  {
   "cell_type": "code",
   "execution_count": 7,
   "metadata": {},
   "outputs": [
    {
     "name": "stdout",
     "output_type": "stream",
     "text": [
      "                       Kaoma Precipitation  Kasempa Precipitation\n",
      "Kaoma Precipitation               1.000000               0.748638\n",
      "Kasempa Precipitation             0.748638               1.000000\n"
     ]
    }
   ],
   "source": [
    "combined_df = kasempa_overlap_df\n",
    "combined_df = combined_df.rename(columns = {'Precipitation':'Kasempa Precipitation'})\n",
    "combined_df['Kaoma Precipitation'] = kaoma_df['Precipitation']\n",
    "print(combined_df[['Kaoma Precipitation','Kasempa Precipitation']].corr())"
   ]
  },
  {
   "cell_type": "markdown",
   "metadata": {},
   "source": [
    "Here we create 2 annual time series one for Kaoma and one for Kasempa..."
   ]
  },
  {
   "cell_type": "code",
   "execution_count": 8,
   "metadata": {},
   "outputs": [
    {
     "data": {
      "text/html": [
       "<div>\n",
       "<style scoped>\n",
       "    .dataframe tbody tr th:only-of-type {\n",
       "        vertical-align: middle;\n",
       "    }\n",
       "\n",
       "    .dataframe tbody tr th {\n",
       "        vertical-align: top;\n",
       "    }\n",
       "\n",
       "    .dataframe thead th {\n",
       "        text-align: right;\n",
       "    }\n",
       "</style>\n",
       "<table border=\"1\" class=\"dataframe\">\n",
       "  <thead>\n",
       "    <tr style=\"text-align: right;\">\n",
       "      <th></th>\n",
       "      <th>Precipitation</th>\n",
       "    </tr>\n",
       "    <tr>\n",
       "      <th>DateTime</th>\n",
       "      <th></th>\n",
       "    </tr>\n",
       "  </thead>\n",
       "  <tbody>\n",
       "    <tr>\n",
       "      <th>1961-12-31</th>\n",
       "      <td>989.4</td>\n",
       "    </tr>\n",
       "    <tr>\n",
       "      <th>1962-12-31</th>\n",
       "      <td>1226.6</td>\n",
       "    </tr>\n",
       "    <tr>\n",
       "      <th>1963-12-31</th>\n",
       "      <td>879.7</td>\n",
       "    </tr>\n",
       "    <tr>\n",
       "      <th>1964-12-31</th>\n",
       "      <td>697.2</td>\n",
       "    </tr>\n",
       "    <tr>\n",
       "      <th>1965-12-31</th>\n",
       "      <td>706.4</td>\n",
       "    </tr>\n",
       "  </tbody>\n",
       "</table>\n",
       "</div>"
      ],
      "text/plain": [
       "            Precipitation\n",
       "DateTime                 \n",
       "1961-12-31          989.4\n",
       "1962-12-31         1226.6\n",
       "1963-12-31          879.7\n",
       "1964-12-31          697.2\n",
       "1965-12-31          706.4"
      ]
     },
     "execution_count": 8,
     "metadata": {},
     "output_type": "execute_result"
    }
   ],
   "source": [
    "kaoma_year_df = kaoma_df.drop(['Year', 'Month', 'Season', 'Date'], axis = 1)\n",
    "kaoma_year_df = kaoma_year_df.set_index('DateTime')\n",
    "kaoma_year_df = kaoma_year_df.resample(\"Y\").sum()\n",
    "kaoma_year_df.head()"
   ]
  },
  {
   "cell_type": "code",
   "execution_count": 9,
   "metadata": {},
   "outputs": [
    {
     "data": {
      "text/html": [
       "<div>\n",
       "<style scoped>\n",
       "    .dataframe tbody tr th:only-of-type {\n",
       "        vertical-align: middle;\n",
       "    }\n",
       "\n",
       "    .dataframe tbody tr th {\n",
       "        vertical-align: top;\n",
       "    }\n",
       "\n",
       "    .dataframe thead th {\n",
       "        text-align: right;\n",
       "    }\n",
       "</style>\n",
       "<table border=\"1\" class=\"dataframe\">\n",
       "  <thead>\n",
       "    <tr style=\"text-align: right;\">\n",
       "      <th></th>\n",
       "      <th>Precipitation</th>\n",
       "    </tr>\n",
       "    <tr>\n",
       "      <th>DateTime</th>\n",
       "      <th></th>\n",
       "    </tr>\n",
       "  </thead>\n",
       "  <tbody>\n",
       "    <tr>\n",
       "      <th>1950-12-31</th>\n",
       "      <td>994.9</td>\n",
       "    </tr>\n",
       "    <tr>\n",
       "      <th>1951-12-31</th>\n",
       "      <td>1181.1</td>\n",
       "    </tr>\n",
       "    <tr>\n",
       "      <th>1952-12-31</th>\n",
       "      <td>1219.9</td>\n",
       "    </tr>\n",
       "    <tr>\n",
       "      <th>1953-12-31</th>\n",
       "      <td>1154.6</td>\n",
       "    </tr>\n",
       "    <tr>\n",
       "      <th>1954-12-31</th>\n",
       "      <td>989.0</td>\n",
       "    </tr>\n",
       "  </tbody>\n",
       "</table>\n",
       "</div>"
      ],
      "text/plain": [
       "            Precipitation\n",
       "DateTime                 \n",
       "1950-12-31          994.9\n",
       "1951-12-31         1181.1\n",
       "1952-12-31         1219.9\n",
       "1953-12-31         1154.6\n",
       "1954-12-31          989.0"
      ]
     },
     "execution_count": 9,
     "metadata": {},
     "output_type": "execute_result"
    }
   ],
   "source": [
    "kasempa_year_df = kasempa_df.drop(['Year', 'Month', 'Season', 'Date'], axis = 1)\n",
    "kasempa_year_df = kasempa_year_df.set_index('DateTime')\n",
    "kasempa_year_df = kasempa_year_df.resample(\"Y\").sum()\n",
    "kasempa_year_df.head()"
   ]
  },
  {
   "cell_type": "code",
   "execution_count": 10,
   "metadata": {},
   "outputs": [
    {
     "data": {
      "image/png": "[encoded data removed]",
      "text/plain": [
       "<Figure size 432x288 with 1 Axes>"
      ]
     },
     "metadata": {},
     "output_type": "display_data"
    }
   ],
   "source": [
    "matplotlib.pyplot.plot(kasempa_year_df.index, kasempa_year_df['Precipitation'])\n",
    "matplotlib.pyplot.plot(kaoma_year_df.index, kaoma_year_df['Precipitation'])\n",
    "matplotlib.pyplot.title(\"Annual Precipitation Series\")\n",
    "matplotlib.pyplot.ylabel(\"Precipitation in mm\")\n",
    "matplotlib.pyplot.show()"
   ]
  },
  {
   "cell_type": "markdown",
   "metadata": {},
   "source": [
    "How well is the annual data correlated (not well!)..."
   ]
  },
  {
   "cell_type": "code",
   "execution_count": 11,
   "metadata": {},
   "outputs": [
    {
     "data": {
      "image/png": "[encoded data removed]",
      "text/plain": [
       "<Figure size 432x288 with 1 Axes>"
      ]
     },
     "metadata": {},
     "output_type": "display_data"
    }
   ],
   "source": [
    "kasempa_overlap_year_df = kasempa_year_df.loc[kaoma_year_df.index.min(): kaoma_year_df.index.max()]\n",
    "matplotlib.pyplot.axis([600, 1600, 600, 1600])\n",
    "matplotlib.pyplot.plot([600, 1600], [600, 1600], 'r--')\n",
    "matplotlib.pyplot.scatter(kasempa_overlap_year_df['Precipitation'], kaoma_year_df['Precipitation'])\n",
    "matplotlib.pyplot.xlabel(\"Kasempa Station Precipitation\")\n",
    "matplotlib.pyplot.ylabel(\"Kaoma Station Precipitation\")\n",
    "matplotlib.pyplot.show()"
   ]
  },
  {
   "cell_type": "code",
   "execution_count": 12,
   "metadata": {},
   "outputs": [
    {
     "name": "stdout",
     "output_type": "stream",
     "text": [
      "                       Kaoma Precipitation  Kasempa Precipitation\n",
      "Kaoma Precipitation               1.000000               0.409918\n",
      "Kasempa Precipitation             0.409918               1.000000\n"
     ]
    }
   ],
   "source": [
    "combined_year_df = kasempa_overlap_year_df\n",
    "combined_year_df = combined_year_df.rename(columns = {'Precipitation':'Kasempa Precipitation'})\n",
    "combined_year_df['Kaoma Precipitation'] = kaoma_year_df['Precipitation']\n",
    "print(combined_year_df[['Kaoma Precipitation','Kasempa Precipitation']].corr())"
   ]
  },
  {
   "cell_type": "markdown",
   "metadata": {},
   "source": [
    "Ultimately the Kaoma station precipitation data was selected for analysis below are summary statistics describing the dataset."
   ]
  },
  {
   "cell_type": "code",
   "execution_count": 13,
   "metadata": {},
   "outputs": [
    {
     "name": "stdout",
     "output_type": "stream",
     "text": [
      "       Precipitation\n",
      "count      30.000000\n",
      "mean      885.783333\n",
      "std       185.172540\n",
      "min       599.900000\n",
      "25%       732.350000\n",
      "50%       858.350000\n",
      "75%       994.150000\n",
      "max      1332.400000\n",
      "coeffecient of variation 0.20904947453480896\n",
      "skew                     0.7503592957741662\n"
     ]
    }
   ],
   "source": [
    "cov = statistics.stdev(kaoma_year_df['Precipitation'])/kaoma_year_df['Precipitation'].mean()\n",
    "skew = kaoma_year_df['Precipitation'].skew()\n",
    "print(kaoma_year_df.describe())\n",
    "print('coeffecient of variation '+str(cov))\n",
    "print('skew                     '+str(skew))"
   ]
  },
  {
   "cell_type": "markdown",
   "metadata": {},
   "source": [
    "The Kaoma guage contains 30 years of data, which recieves an average of 885 mm of rainfall per year (as opposed to 1120 mm per year at the Kasempa station). A standard deviation in this rainfall total amounts to a 20% reduction or increase in the mean (18% for the Kasempa). The record shows moderate right side skew (0.75) (as opposed to the Kasempa guage which shows no skew (~0.04). For instance, the maximum value at the Kaoma station (1332 mm) is further above the mean than the minimum value (600 mm) is below it. "
   ]
  },
  {
   "cell_type": "code",
   "execution_count": 14,
   "metadata": {},
   "outputs": [
    {
     "data": {
      "image/png": "[encoded data removed]",
      "text/plain": [
       "<Figure size 432x288 with 1 Axes>"
      ]
     },
     "metadata": {},
     "output_type": "display_data"
    }
   ],
   "source": [
    "figure, plot = matplotlib.pyplot.subplots()\n",
    "plot.set_title('Koama Annual Precipitation Distribution')\n",
    "plot.set_ylabel('precipitation in mm')\n",
    "#plot.boxplot(kaoma_year_df['Precipitation']);\n",
    "matplotlib.pyplot.hist(kaoma_year_df['Precipitation'])\n",
    "matplotlib.pyplot.show()"
   ]
  },
  {
   "cell_type": "code",
   "execution_count": 15,
   "metadata": {},
   "outputs": [],
   "source": [
    "kaoma_monthly_dfs = kaoma_df.groupby('Month')['Precipitation'].apply(list)\n",
    "#print(kaoma_monthly_dfs)"
   ]
  },
  {
   "cell_type": "code",
   "execution_count": 16,
   "metadata": {},
   "outputs": [
    {
     "data": {
      "image/png": "[encoded data removed]",
      "text/plain": [
       "<Figure size 432x288 with 1 Axes>"
      ]
     },
     "metadata": {},
     "output_type": "display_data"
    }
   ],
   "source": [
    "figure, plot = matplotlib.pyplot.subplots()\n",
    "plot.set_title('Kaoma Distribution of Monthly Precipitation')\n",
    "plot.set_ylabel('precipitation in mm')\n",
    "plot.set_xlabel('month in year')\n",
    "plot.boxplot(kaoma_monthly_dfs);"
   ]
  },
  {
   "cell_type": "markdown",
   "metadata": {},
   "source": [
    "Below we develop 1,000 years of bootstrapped monthly precipitation data, stratified by month. This data is contained in a single 1,000 year long synthetic traces."
   ]
  },
  {
   "cell_type": "code",
   "execution_count": 17,
   "metadata": {},
   "outputs": [
    {
     "data": {
      "text/html": [
       "<div>\n",
       "<style scoped>\n",
       "    .dataframe tbody tr th:only-of-type {\n",
       "        vertical-align: middle;\n",
       "    }\n",
       "\n",
       "    .dataframe tbody tr th {\n",
       "        vertical-align: top;\n",
       "    }\n",
       "\n",
       "    .dataframe thead th {\n",
       "        text-align: right;\n",
       "    }\n",
       "</style>\n",
       "<table border=\"1\" class=\"dataframe\">\n",
       "  <thead>\n",
       "    <tr style=\"text-align: right;\">\n",
       "      <th></th>\n",
       "      <th>strata</th>\n",
       "      <th>trace</th>\n",
       "    </tr>\n",
       "  </thead>\n",
       "  <tbody>\n",
       "    <tr>\n",
       "      <th>0</th>\n",
       "      <td>1</td>\n",
       "      <td>1989-01-01</td>\n",
       "    </tr>\n",
       "    <tr>\n",
       "      <th>1</th>\n",
       "      <td>2</td>\n",
       "      <td>1990-02-01</td>\n",
       "    </tr>\n",
       "    <tr>\n",
       "      <th>2</th>\n",
       "      <td>3</td>\n",
       "      <td>1984-03-01</td>\n",
       "    </tr>\n",
       "    <tr>\n",
       "      <th>3</th>\n",
       "      <td>4</td>\n",
       "      <td>1969-04-01</td>\n",
       "    </tr>\n",
       "    <tr>\n",
       "      <th>4</th>\n",
       "      <td>5</td>\n",
       "      <td>1973-05-01</td>\n",
       "    </tr>\n",
       "  </tbody>\n",
       "</table>\n",
       "</div>"
      ],
      "text/plain": [
       "   strata       trace\n",
       "0       1  1989-01-01\n",
       "1       2  1990-02-01\n",
       "2       3  1984-03-01\n",
       "3       4  1969-04-01\n",
       "4       5  1973-05-01"
      ]
     },
     "execution_count": 17,
     "metadata": {},
     "output_type": "execute_result"
    }
   ],
   "source": [
    "#Generate sample_df input for bootstrap method - 100 years of monthly data per trace\n",
    "sample_list = list(range(1, 13, 1))\n",
    "for i in range(1, 1, 1):\n",
    "    sample_list.extend(list(range(1, 13, 1)))\n",
    "sample_df = pandas.DataFrame(sample_list, columns = ['strata'])\n",
    "\n",
    "\n",
    "#Format df input for bootstrap method\n",
    "df = kaoma_df\n",
    "df = df.rename(columns = {'Month':'strata'})\n",
    "df = df.rename(columns = {'DateTime': 'variable_to_sample'})\n",
    "\n",
    "#Bootstrap method \n",
    "def boostrap(df, sample_df):\n",
    "    #df is a pandas dataframe it must have the following 2 columns: 'strata', 'variable_to_sample'\n",
    "    #sample_df is a pandas dataframe it must have the following column: 'strata'\n",
    "    stratalists = df.groupby('strata')['variable_to_sample'].apply(list)\n",
    "    sample_df['trace'] = -999\n",
    "    for index, row in sample_df.iterrows():\n",
    "        sublist = stratalists[row['strata']]\n",
    "        selected_date = sublist[int(random.random() / (1 / len(sublist)))]\n",
    "        sample_df.loc[index, 'trace'] = pandas.to_datetime(selected_date, format='%Y-%m').date() \n",
    "    return sample_df\n",
    "    # A multi-trace option - but I think its easier to split it after the bootstrap\n",
    "    #for i in range(0, n_traces, 1):\n",
    "    #    trace = 'trace_' + str(i + 1)\n",
    "    #    sample_df[trace] = -999\n",
    "    #    for index, row in sample_df.iterrows():\n",
    "    #        sublist = stratalists[row['strata']]\n",
    "    #        selected_date = sublist[int(random.random() / (1 / len(sublist)))]\n",
    "    #        sample_df.loc[index, trace] = selected_date\n",
    "    #return sample_df\n",
    "\n",
    "##Calling Bootstrap Method - 10 traces (each 100 years long based on sample_df)\n",
    "trace_dates = boostrap(df, sample_df)\n",
    "trace_dates.head()"
   ]
  },
  {
   "cell_type": "code",
   "execution_count": 18,
   "metadata": {},
   "outputs": [
    {
     "data": {
      "text/html": [
       "<div>\n",
       "<style scoped>\n",
       "    .dataframe tbody tr th:only-of-type {\n",
       "        vertical-align: middle;\n",
       "    }\n",
       "\n",
       "    .dataframe tbody tr th {\n",
       "        vertical-align: top;\n",
       "    }\n",
       "\n",
       "    .dataframe thead th {\n",
       "        text-align: right;\n",
       "    }\n",
       "</style>\n",
       "<table border=\"1\" class=\"dataframe\">\n",
       "  <thead>\n",
       "    <tr style=\"text-align: right;\">\n",
       "      <th></th>\n",
       "      <th>Year</th>\n",
       "      <th>Month</th>\n",
       "      <th>Season</th>\n",
       "      <th>Precipitation</th>\n",
       "      <th>Date</th>\n",
       "      <th>DateTime</th>\n",
       "    </tr>\n",
       "  </thead>\n",
       "  <tbody>\n",
       "    <tr>\n",
       "      <th>0</th>\n",
       "      <td>1961</td>\n",
       "      <td>1</td>\n",
       "      <td>1</td>\n",
       "      <td>242.5</td>\n",
       "      <td>-999</td>\n",
       "      <td>1961-01-01</td>\n",
       "    </tr>\n",
       "    <tr>\n",
       "      <th>1</th>\n",
       "      <td>1961</td>\n",
       "      <td>2</td>\n",
       "      <td>1</td>\n",
       "      <td>209.1</td>\n",
       "      <td>-999</td>\n",
       "      <td>1961-02-01</td>\n",
       "    </tr>\n",
       "    <tr>\n",
       "      <th>2</th>\n",
       "      <td>1961</td>\n",
       "      <td>3</td>\n",
       "      <td>1</td>\n",
       "      <td>97.6</td>\n",
       "      <td>-999</td>\n",
       "      <td>1961-03-01</td>\n",
       "    </tr>\n",
       "    <tr>\n",
       "      <th>3</th>\n",
       "      <td>1961</td>\n",
       "      <td>4</td>\n",
       "      <td>1</td>\n",
       "      <td>5.6</td>\n",
       "      <td>-999</td>\n",
       "      <td>1961-04-01</td>\n",
       "    </tr>\n",
       "    <tr>\n",
       "      <th>4</th>\n",
       "      <td>1961</td>\n",
       "      <td>5</td>\n",
       "      <td>0</td>\n",
       "      <td>0.0</td>\n",
       "      <td>-999</td>\n",
       "      <td>1961-05-01</td>\n",
       "    </tr>\n",
       "  </tbody>\n",
       "</table>\n",
       "</div>"
      ],
      "text/plain": [
       "   Year  Month  Season  Precipitation  Date   DateTime\n",
       "0  1961      1       1          242.5  -999 1961-01-01\n",
       "1  1961      2       1          209.1  -999 1961-02-01\n",
       "2  1961      3       1           97.6  -999 1961-03-01\n",
       "3  1961      4       1            5.6  -999 1961-04-01\n",
       "4  1961      5       0            0.0  -999 1961-05-01"
      ]
     },
     "execution_count": 18,
     "metadata": {},
     "output_type": "execute_result"
    }
   ],
   "source": [
    "kaoma_df.head()\n",
    "#WTF Date"
   ]
  },
  {
   "cell_type": "code",
   "execution_count": 29,
   "metadata": {},
   "outputs": [
    {
     "name": "stdout",
     "output_type": "stream",
     "text": [
      "336    269.5\n",
      "Name: Precipitation, dtype: float64\n"
     ]
    },
    {
     "ename": "ValueError",
     "evalue": "Incompatible indexer with Series",
     "output_type": "error",
     "traceback": [
      "\u001b[1;31m---------------------------------------------------------------------------\u001b[0m",
      "\u001b[1;31mValueError\u001b[0m                                Traceback (most recent call last)",
      "\u001b[1;32m<ipython-input-29-0ddc3dbc403d>\u001b[0m in \u001b[0;36m<module>\u001b[1;34m()\u001b[0m\n\u001b[0;32m      5\u001b[0m     \u001b[0mmatching_row\u001b[0m \u001b[1;33m=\u001b[0m \u001b[0mkaoma_df\u001b[0m\u001b[1;33m[\u001b[0m\u001b[0mkaoma_df\u001b[0m\u001b[1;33m.\u001b[0m\u001b[0mDateTime\u001b[0m \u001b[1;33m==\u001b[0m \u001b[0msample_date\u001b[0m\u001b[1;33m]\u001b[0m\u001b[1;33m\u001b[0m\u001b[0m\n\u001b[0;32m      6\u001b[0m     \u001b[0mprint\u001b[0m\u001b[1;33m(\u001b[0m\u001b[0mmatching_row\u001b[0m\u001b[1;33m.\u001b[0m\u001b[0mPrecipitation\u001b[0m\u001b[1;33m)\u001b[0m\u001b[1;33m\u001b[0m\u001b[0m\n\u001b[1;32m----> 7\u001b[1;33m     \u001b[0mtrace_df\u001b[0m\u001b[1;33m.\u001b[0m\u001b[0mloc\u001b[0m\u001b[1;33m[\u001b[0m\u001b[0mindex\u001b[0m\u001b[1;33m,\u001b[0m \u001b[1;34m'precip'\u001b[0m\u001b[1;33m]\u001b[0m \u001b[1;33m=\u001b[0m \u001b[0mmatching_row\u001b[0m\u001b[1;33m.\u001b[0m\u001b[0mPrecipitation\u001b[0m\u001b[1;33m\u001b[0m\u001b[0m\n\u001b[0m\u001b[0;32m      8\u001b[0m     \u001b[1;31m#print(match)\u001b[0m\u001b[1;33m\u001b[0m\u001b[1;33m\u001b[0m\u001b[0m\n\u001b[0;32m      9\u001b[0m     \u001b[1;31m#trace_df.loc[index, 'precip'] = matches\u001b[0m\u001b[1;33m\u001b[0m\u001b[1;33m\u001b[0m\u001b[0m\n",
      "\u001b[1;32mC:\\Program Files (x86)\\Microsoft Visual Studio\\Shared\\Anaconda3_64\\lib\\site-packages\\pandas\\core\\indexing.py\u001b[0m in \u001b[0;36m__setitem__\u001b[1;34m(self, key, value)\u001b[0m\n\u001b[0;32m    187\u001b[0m             \u001b[0mkey\u001b[0m \u001b[1;33m=\u001b[0m \u001b[0mcom\u001b[0m\u001b[1;33m.\u001b[0m\u001b[0m_apply_if_callable\u001b[0m\u001b[1;33m(\u001b[0m\u001b[0mkey\u001b[0m\u001b[1;33m,\u001b[0m \u001b[0mself\u001b[0m\u001b[1;33m.\u001b[0m\u001b[0mobj\u001b[0m\u001b[1;33m)\u001b[0m\u001b[1;33m\u001b[0m\u001b[0m\n\u001b[0;32m    188\u001b[0m         \u001b[0mindexer\u001b[0m \u001b[1;33m=\u001b[0m \u001b[0mself\u001b[0m\u001b[1;33m.\u001b[0m\u001b[0m_get_setitem_indexer\u001b[0m\u001b[1;33m(\u001b[0m\u001b[0mkey\u001b[0m\u001b[1;33m)\u001b[0m\u001b[1;33m\u001b[0m\u001b[0m\n\u001b[1;32m--> 189\u001b[1;33m         \u001b[0mself\u001b[0m\u001b[1;33m.\u001b[0m\u001b[0m_setitem_with_indexer\u001b[0m\u001b[1;33m(\u001b[0m\u001b[0mindexer\u001b[0m\u001b[1;33m,\u001b[0m \u001b[0mvalue\u001b[0m\u001b[1;33m)\u001b[0m\u001b[1;33m\u001b[0m\u001b[0m\n\u001b[0m\u001b[0;32m    190\u001b[0m \u001b[1;33m\u001b[0m\u001b[0m\n\u001b[0;32m    191\u001b[0m     \u001b[1;32mdef\u001b[0m \u001b[0m_validate_key\u001b[0m\u001b[1;33m(\u001b[0m\u001b[0mself\u001b[0m\u001b[1;33m,\u001b[0m \u001b[0mkey\u001b[0m\u001b[1;33m,\u001b[0m \u001b[0maxis\u001b[0m\u001b[1;33m)\u001b[0m\u001b[1;33m:\u001b[0m\u001b[1;33m\u001b[0m\u001b[0m\n",
      "\u001b[1;32mC:\\Program Files (x86)\\Microsoft Visual Studio\\Shared\\Anaconda3_64\\lib\\site-packages\\pandas\\core\\indexing.py\u001b[0m in \u001b[0;36m_setitem_with_indexer\u001b[1;34m(self, indexer, value)\u001b[0m\n\u001b[0;32m    467\u001b[0m \u001b[1;33m\u001b[0m\u001b[0m\n\u001b[0;32m    468\u001b[0m             \u001b[1;32mif\u001b[0m \u001b[0misinstance\u001b[0m\u001b[1;33m(\u001b[0m\u001b[0mvalue\u001b[0m\u001b[1;33m,\u001b[0m \u001b[0mABCSeries\u001b[0m\u001b[1;33m)\u001b[0m\u001b[1;33m:\u001b[0m\u001b[1;33m\u001b[0m\u001b[0m\n\u001b[1;32m--> 469\u001b[1;33m                 \u001b[0mvalue\u001b[0m \u001b[1;33m=\u001b[0m \u001b[0mself\u001b[0m\u001b[1;33m.\u001b[0m\u001b[0m_align_series\u001b[0m\u001b[1;33m(\u001b[0m\u001b[0mindexer\u001b[0m\u001b[1;33m,\u001b[0m \u001b[0mvalue\u001b[0m\u001b[1;33m)\u001b[0m\u001b[1;33m\u001b[0m\u001b[0m\n\u001b[0m\u001b[0;32m    470\u001b[0m \u001b[1;33m\u001b[0m\u001b[0m\n\u001b[0;32m    471\u001b[0m             \u001b[0minfo_idx\u001b[0m \u001b[1;33m=\u001b[0m \u001b[0mindexer\u001b[0m\u001b[1;33m[\u001b[0m\u001b[0minfo_axis\u001b[0m\u001b[1;33m]\u001b[0m\u001b[1;33m\u001b[0m\u001b[0m\n",
      "\u001b[1;32mC:\\Program Files (x86)\\Microsoft Visual Studio\\Shared\\Anaconda3_64\\lib\\site-packages\\pandas\\core\\indexing.py\u001b[0m in \u001b[0;36m_align_series\u001b[1;34m(self, indexer, ser, multiindex_indexer)\u001b[0m\n\u001b[0;32m    775\u001b[0m             \u001b[1;32mreturn\u001b[0m \u001b[0mser\u001b[0m\u001b[1;33m.\u001b[0m\u001b[0mreindex\u001b[0m\u001b[1;33m(\u001b[0m\u001b[0max\u001b[0m\u001b[1;33m)\u001b[0m\u001b[1;33m.\u001b[0m\u001b[0m_values\u001b[0m\u001b[1;33m\u001b[0m\u001b[0m\n\u001b[0;32m    776\u001b[0m \u001b[1;33m\u001b[0m\u001b[0m\n\u001b[1;32m--> 777\u001b[1;33m         \u001b[1;32mraise\u001b[0m \u001b[0mValueError\u001b[0m\u001b[1;33m(\u001b[0m\u001b[1;34m'Incompatible indexer with Series'\u001b[0m\u001b[1;33m)\u001b[0m\u001b[1;33m\u001b[0m\u001b[0m\n\u001b[0m\u001b[0;32m    778\u001b[0m \u001b[1;33m\u001b[0m\u001b[0m\n\u001b[0;32m    779\u001b[0m     \u001b[1;32mdef\u001b[0m \u001b[0m_align_frame\u001b[0m\u001b[1;33m(\u001b[0m\u001b[0mself\u001b[0m\u001b[1;33m,\u001b[0m \u001b[0mindexer\u001b[0m\u001b[1;33m,\u001b[0m \u001b[0mdf\u001b[0m\u001b[1;33m)\u001b[0m\u001b[1;33m:\u001b[0m\u001b[1;33m\u001b[0m\u001b[0m\n",
      "\u001b[1;31mValueError\u001b[0m: Incompatible indexer with Series"
     ]
    }
   ],
   "source": [
    "trace_df = trace_dates\n",
    "trace_df['precip'] = -999\n",
    "for index, row in trace_df.iterrows():\n",
    "    sample_date = pandas.to_datetime(row['trace'])\n",
    "    matching_row = kaoma_df[kaoma_df.DateTime == sample_date]\n",
    "    print(matching_row.Precipitation)\n",
    "    trace_df.loc[index, 'precip'] = matching_row.Precipitation\n",
    "    #print(match)\n",
    "    #trace_df.loc[index, 'precip'] = matches\n",
    "trace_df.head()"
   ]
  },
  {
   "cell_type": "code",
   "execution_count": 29,
   "metadata": {},
   "outputs": [
    {
     "ename": "ValueError",
     "evalue": "Incompatible indexer with Series",
     "output_type": "error",
     "traceback": [
      "\u001b[1;31m---------------------------------------------------------------------------\u001b[0m",
      "\u001b[1;31mValueError\u001b[0m                                Traceback (most recent call last)",
      "\u001b[1;32m<ipython-input-29-87a1fd890d2a>\u001b[0m in \u001b[0;36m<module>\u001b[1;34m()\u001b[0m\n\u001b[0;32m      6\u001b[0m         \u001b[0mtrace_df\u001b[0m\u001b[1;33m.\u001b[0m\u001b[0mloc\u001b[0m\u001b[1;33m[\u001b[0m\u001b[0mindex\u001b[0m\u001b[1;33m,\u001b[0m \u001b[1;34m'precip'\u001b[0m\u001b[1;33m]\u001b[0m \u001b[1;33m=\u001b[0m \u001b[0mobs_df\u001b[0m\u001b[1;33m[\u001b[0m\u001b[0mobs_df\u001b[0m\u001b[1;33m.\u001b[0m\u001b[0mDateTime\u001b[0m \u001b[1;33m==\u001b[0m \u001b[0msample_date\u001b[0m\u001b[1;33m]\u001b[0m\u001b[1;33m[\u001b[0m\u001b[0mvariable\u001b[0m\u001b[1;33m]\u001b[0m\u001b[1;33m\u001b[0m\u001b[0m\n\u001b[0;32m      7\u001b[0m \u001b[1;33m\u001b[0m\u001b[0m\n\u001b[1;32m----> 8\u001b[1;33m \u001b[0mtrace_df\u001b[0m \u001b[1;33m=\u001b[0m \u001b[0mfillin_precip\u001b[0m\u001b[1;33m(\u001b[0m\u001b[0mtrace_dates\u001b[0m\u001b[1;33m,\u001b[0m \u001b[0mkaoma_df\u001b[0m\u001b[1;33m)\u001b[0m\u001b[1;33m\u001b[0m\u001b[0m\n\u001b[0m\u001b[0;32m      9\u001b[0m \u001b[0mtrace_df\u001b[0m\u001b[1;33m.\u001b[0m\u001b[0mhead\u001b[0m\u001b[1;33m(\u001b[0m\u001b[1;33m)\u001b[0m\u001b[1;33m\u001b[0m\u001b[0m\n",
      "\u001b[1;32m<ipython-input-29-87a1fd890d2a>\u001b[0m in \u001b[0;36mfillin_precip\u001b[1;34m(trace_df, obs_df, variable)\u001b[0m\n\u001b[0;32m      4\u001b[0m     \u001b[1;32mfor\u001b[0m \u001b[0mindex\u001b[0m\u001b[1;33m,\u001b[0m \u001b[0mrow\u001b[0m \u001b[1;32min\u001b[0m \u001b[0mtrace_df\u001b[0m\u001b[1;33m.\u001b[0m\u001b[0miterrows\u001b[0m\u001b[1;33m(\u001b[0m\u001b[1;33m)\u001b[0m\u001b[1;33m:\u001b[0m\u001b[1;33m\u001b[0m\u001b[0m\n\u001b[0;32m      5\u001b[0m         \u001b[0msample_date\u001b[0m \u001b[1;33m=\u001b[0m \u001b[0mpandas\u001b[0m\u001b[1;33m.\u001b[0m\u001b[0mto_datetime\u001b[0m\u001b[1;33m(\u001b[0m\u001b[0mrow\u001b[0m\u001b[1;33m[\u001b[0m\u001b[1;34m'trace'\u001b[0m\u001b[1;33m]\u001b[0m\u001b[1;33m)\u001b[0m\u001b[1;33m\u001b[0m\u001b[0m\n\u001b[1;32m----> 6\u001b[1;33m         \u001b[0mtrace_df\u001b[0m\u001b[1;33m.\u001b[0m\u001b[0mloc\u001b[0m\u001b[1;33m[\u001b[0m\u001b[0mindex\u001b[0m\u001b[1;33m,\u001b[0m \u001b[1;34m'precip'\u001b[0m\u001b[1;33m]\u001b[0m \u001b[1;33m=\u001b[0m \u001b[0mobs_df\u001b[0m\u001b[1;33m[\u001b[0m\u001b[0mobs_df\u001b[0m\u001b[1;33m.\u001b[0m\u001b[0mDateTime\u001b[0m \u001b[1;33m==\u001b[0m \u001b[0msample_date\u001b[0m\u001b[1;33m]\u001b[0m\u001b[1;33m[\u001b[0m\u001b[0mvariable\u001b[0m\u001b[1;33m]\u001b[0m\u001b[1;33m\u001b[0m\u001b[0m\n\u001b[0m\u001b[0;32m      7\u001b[0m \u001b[1;33m\u001b[0m\u001b[0m\n\u001b[0;32m      8\u001b[0m \u001b[0mtrace_df\u001b[0m \u001b[1;33m=\u001b[0m \u001b[0mfillin_precip\u001b[0m\u001b[1;33m(\u001b[0m\u001b[0mtrace_dates\u001b[0m\u001b[1;33m,\u001b[0m \u001b[0mkaoma_df\u001b[0m\u001b[1;33m)\u001b[0m\u001b[1;33m\u001b[0m\u001b[0m\n",
      "\u001b[1;32mC:\\Program Files (x86)\\Microsoft Visual Studio\\Shared\\Anaconda3_64\\lib\\site-packages\\pandas\\core\\indexing.py\u001b[0m in \u001b[0;36m__setitem__\u001b[1;34m(self, key, value)\u001b[0m\n\u001b[0;32m    187\u001b[0m             \u001b[0mkey\u001b[0m \u001b[1;33m=\u001b[0m \u001b[0mcom\u001b[0m\u001b[1;33m.\u001b[0m\u001b[0m_apply_if_callable\u001b[0m\u001b[1;33m(\u001b[0m\u001b[0mkey\u001b[0m\u001b[1;33m,\u001b[0m \u001b[0mself\u001b[0m\u001b[1;33m.\u001b[0m\u001b[0mobj\u001b[0m\u001b[1;33m)\u001b[0m\u001b[1;33m\u001b[0m\u001b[0m\n\u001b[0;32m    188\u001b[0m         \u001b[0mindexer\u001b[0m \u001b[1;33m=\u001b[0m \u001b[0mself\u001b[0m\u001b[1;33m.\u001b[0m\u001b[0m_get_setitem_indexer\u001b[0m\u001b[1;33m(\u001b[0m\u001b[0mkey\u001b[0m\u001b[1;33m)\u001b[0m\u001b[1;33m\u001b[0m\u001b[0m\n\u001b[1;32m--> 189\u001b[1;33m         \u001b[0mself\u001b[0m\u001b[1;33m.\u001b[0m\u001b[0m_setitem_with_indexer\u001b[0m\u001b[1;33m(\u001b[0m\u001b[0mindexer\u001b[0m\u001b[1;33m,\u001b[0m \u001b[0mvalue\u001b[0m\u001b[1;33m)\u001b[0m\u001b[1;33m\u001b[0m\u001b[0m\n\u001b[0m\u001b[0;32m    190\u001b[0m \u001b[1;33m\u001b[0m\u001b[0m\n\u001b[0;32m    191\u001b[0m     \u001b[1;32mdef\u001b[0m \u001b[0m_validate_key\u001b[0m\u001b[1;33m(\u001b[0m\u001b[0mself\u001b[0m\u001b[1;33m,\u001b[0m \u001b[0mkey\u001b[0m\u001b[1;33m,\u001b[0m \u001b[0maxis\u001b[0m\u001b[1;33m)\u001b[0m\u001b[1;33m:\u001b[0m\u001b[1;33m\u001b[0m\u001b[0m\n",
      "\u001b[1;32mC:\\Program Files (x86)\\Microsoft Visual Studio\\Shared\\Anaconda3_64\\lib\\site-packages\\pandas\\core\\indexing.py\u001b[0m in \u001b[0;36m_setitem_with_indexer\u001b[1;34m(self, indexer, value)\u001b[0m\n\u001b[0;32m    467\u001b[0m \u001b[1;33m\u001b[0m\u001b[0m\n\u001b[0;32m    468\u001b[0m             \u001b[1;32mif\u001b[0m \u001b[0misinstance\u001b[0m\u001b[1;33m(\u001b[0m\u001b[0mvalue\u001b[0m\u001b[1;33m,\u001b[0m \u001b[0mABCSeries\u001b[0m\u001b[1;33m)\u001b[0m\u001b[1;33m:\u001b[0m\u001b[1;33m\u001b[0m\u001b[0m\n\u001b[1;32m--> 469\u001b[1;33m                 \u001b[0mvalue\u001b[0m \u001b[1;33m=\u001b[0m \u001b[0mself\u001b[0m\u001b[1;33m.\u001b[0m\u001b[0m_align_series\u001b[0m\u001b[1;33m(\u001b[0m\u001b[0mindexer\u001b[0m\u001b[1;33m,\u001b[0m \u001b[0mvalue\u001b[0m\u001b[1;33m)\u001b[0m\u001b[1;33m\u001b[0m\u001b[0m\n\u001b[0m\u001b[0;32m    470\u001b[0m \u001b[1;33m\u001b[0m\u001b[0m\n\u001b[0;32m    471\u001b[0m             \u001b[0minfo_idx\u001b[0m \u001b[1;33m=\u001b[0m \u001b[0mindexer\u001b[0m\u001b[1;33m[\u001b[0m\u001b[0minfo_axis\u001b[0m\u001b[1;33m]\u001b[0m\u001b[1;33m\u001b[0m\u001b[0m\n",
      "\u001b[1;32mC:\\Program Files (x86)\\Microsoft Visual Studio\\Shared\\Anaconda3_64\\lib\\site-packages\\pandas\\core\\indexing.py\u001b[0m in \u001b[0;36m_align_series\u001b[1;34m(self, indexer, ser, multiindex_indexer)\u001b[0m\n\u001b[0;32m    775\u001b[0m             \u001b[1;32mreturn\u001b[0m \u001b[0mser\u001b[0m\u001b[1;33m.\u001b[0m\u001b[0mreindex\u001b[0m\u001b[1;33m(\u001b[0m\u001b[0max\u001b[0m\u001b[1;33m)\u001b[0m\u001b[1;33m.\u001b[0m\u001b[0m_values\u001b[0m\u001b[1;33m\u001b[0m\u001b[0m\n\u001b[0;32m    776\u001b[0m \u001b[1;33m\u001b[0m\u001b[0m\n\u001b[1;32m--> 777\u001b[1;33m         \u001b[1;32mraise\u001b[0m \u001b[0mValueError\u001b[0m\u001b[1;33m(\u001b[0m\u001b[1;34m'Incompatible indexer with Series'\u001b[0m\u001b[1;33m)\u001b[0m\u001b[1;33m\u001b[0m\u001b[0m\n\u001b[0m\u001b[0;32m    778\u001b[0m \u001b[1;33m\u001b[0m\u001b[0m\n\u001b[0;32m    779\u001b[0m     \u001b[1;32mdef\u001b[0m \u001b[0m_align_frame\u001b[0m\u001b[1;33m(\u001b[0m\u001b[0mself\u001b[0m\u001b[1;33m,\u001b[0m \u001b[0mindexer\u001b[0m\u001b[1;33m,\u001b[0m \u001b[0mdf\u001b[0m\u001b[1;33m)\u001b[0m\u001b[1;33m:\u001b[0m\u001b[1;33m\u001b[0m\u001b[0m\n",
      "\u001b[1;31mValueError\u001b[0m: Incompatible indexer with Series"
     ]
    }
   ],
   "source": [
    "def fillin_precip(trace_df, obs_df, variable = 'Precipitation'):\n",
    "    trace_df = trace_dates\n",
    "    trace_df['precip'] = -999\n",
    "    for index, row in trace_df.iterrows():\n",
    "        sample_date = pandas.to_datetime(row['trace'])\n",
    "        trace_df.loc[index, 'precip'] = obs_df[obs_df.DateTime == sample_date][variable]\n",
    "\n",
    "trace_df = fillin_precip(trace_dates, kaoma_df)\n",
    "trace_df.head()"
   ]
  },
  {
   "cell_type": "markdown",
   "metadata": {},
   "source": [
    "Here we create a new data frame holding the synthetically generated precipitation values rounded down toward the lower 10s place. This effectively places each synthetic precipitation value in a 10 mm wide bin, which is then used as strata from which synthetic temperature values are selected through bootstrapping. This allows for the full observed precipitation record (~1960 - 1990) to be used, even though the temperature records must be selected from the shorter 10 year period (~1980 - 1990) over which the precipitation and temperature records overlap.   \n",
    "\n",
    "Note: that even in the overlapping period (~1980 - 1990) this stratified bootstrap approach is followed."
   ]
  },
  {
   "cell_type": "code",
   "execution_count": 30,
   "metadata": {},
   "outputs": [
    {
     "ename": "IndentationError",
     "evalue": "expected an indented block (<ipython-input-30-9589755f8076>, line 11)",
     "output_type": "error",
     "traceback": [
      "\u001b[1;36m  File \u001b[1;32m\"<ipython-input-30-9589755f8076>\"\u001b[1;36m, line \u001b[1;32m11\u001b[0m\n\u001b[1;33m    for i in range(1, 13, 1):\u001b[0m\n\u001b[1;37m    ^\u001b[0m\n\u001b[1;31mIndentationError\u001b[0m\u001b[1;31m:\u001b[0m expected an indented block\n"
     ]
    }
   ],
   "source": [
    "def bootstrap_temperature(trace_df, obs_df, variable):\n",
    "    #round off observed precipitation values\n",
    "    df = obs_df\n",
    "    for index, row in df.iterrows():\n",
    "        df.loc[index, 'Precipitation'] = math.floor(float(row['Precipitation']) * 10)\n",
    "    for index, row in trace_df.iterrows():\n",
    "        #if variable of interest is missing\n",
    "        if row[variable] == -999:\n",
    "            precip_strata = math.floor(float(row['Precipitation']) * 10)\n",
    "    #get list of variable of interest wiht matching precip_strata\n",
    "    \n",
    "    \n",
    "#all discard    \n",
    "    for i in range(1, 13, 1):\n",
    "        #a list of precipitation by month\n",
    "        month_lists = obs_df.groupby('i')['Precipitation'].apply(lists)\n",
    "    #round off precipitation values\n",
    "    month_lists = [(math.floor(float(i)) * 10) for i in month_lists[i] ]\n",
    "    for index, row in trace_df.iterrows():\n",
    "        #if temp_min or temp_max are missing\n",
    "        if row[variable] == -999:\n",
    "            precip_strata = math.floor(row['Precipitation']) * 10\n",
    "            \n",
    "    \n",
    "    for i in range(1, 13, 1):\n",
    "        strata_lists = math.floor(float())\n",
    "        stratalists = df.groupby('strata')['variable_to_sample'].apply(list)\n",
    "    \n",
    "    for index, row in trace_df.iterrows():\n",
    "        if row[variable] == -999:\n",
    "            \n",
    "\n",
    "\n",
    "\n",
    "for i in range(1, 11, 1):\n",
    "    col = 'sample_'+str(i)\n",
    "    sample_temp_list = [(math.floor(float(i)) * 10) for i in (sample[col] / 10)]\n",
    "    if i == 1:\n",
    "        sample_temp_df = pandas.DataFrame(sample['strata'], columns = ['strata'])\n",
    "    header = 'sample_'+str(i)\n",
    "    sample_temp_df[header] = sample_temp_list\n",
    "sample_temp_df.head()  "
   ]
  },
  {
   "cell_type": "markdown",
   "metadata": {},
   "source": [
    "The temperature and precipitation data do NOT overlap in time or space. The Kaoma precipitation data was recorded from January 1960 - December 1990. However, the temperature data was collected from the Kabwe station approximately 400 km to the East. THe Kabwe station contained records as far back as 1973. However only the period between January 1980 and December of 1997 was used in this analysis. Even within this shorter time period the time series is irregular as several months were missing values."
   ]
  },
  {
   "cell_type": "code",
   "execution_count": 139,
   "metadata": {},
   "outputs": [
    {
     "data": {
      "text/html": [
       "<div>\n",
       "<style scoped>\n",
       "    .dataframe tbody tr th:only-of-type {\n",
       "        vertical-align: middle;\n",
       "    }\n",
       "\n",
       "    .dataframe tbody tr th {\n",
       "        vertical-align: top;\n",
       "    }\n",
       "\n",
       "    .dataframe thead th {\n",
       "        text-align: right;\n",
       "    }\n",
       "</style>\n",
       "<table border=\"1\" class=\"dataframe\">\n",
       "  <thead>\n",
       "    <tr style=\"text-align: right;\">\n",
       "      <th></th>\n",
       "      <th>Month</th>\n",
       "      <th>Year</th>\n",
       "      <th>MaxTemp</th>\n",
       "      <th>MinTemp</th>\n",
       "      <th>Date</th>\n",
       "    </tr>\n",
       "  </thead>\n",
       "  <tbody>\n",
       "    <tr>\n",
       "      <th>0</th>\n",
       "      <td>1</td>\n",
       "      <td>1980</td>\n",
       "      <td>27.7</td>\n",
       "      <td>16.4</td>\n",
       "      <td>1980-01-01</td>\n",
       "    </tr>\n",
       "    <tr>\n",
       "      <th>1</th>\n",
       "      <td>4</td>\n",
       "      <td>1980</td>\n",
       "      <td>26.0</td>\n",
       "      <td>17.0</td>\n",
       "      <td>1980-04-01</td>\n",
       "    </tr>\n",
       "    <tr>\n",
       "      <th>2</th>\n",
       "      <td>5</td>\n",
       "      <td>1980</td>\n",
       "      <td>26.0</td>\n",
       "      <td>10.4</td>\n",
       "      <td>1980-05-01</td>\n",
       "    </tr>\n",
       "    <tr>\n",
       "      <th>3</th>\n",
       "      <td>6</td>\n",
       "      <td>1980</td>\n",
       "      <td>21.5</td>\n",
       "      <td>7.1</td>\n",
       "      <td>1980-06-01</td>\n",
       "    </tr>\n",
       "    <tr>\n",
       "      <th>4</th>\n",
       "      <td>7</td>\n",
       "      <td>1980</td>\n",
       "      <td>22.4</td>\n",
       "      <td>8.5</td>\n",
       "      <td>1980-07-01</td>\n",
       "    </tr>\n",
       "  </tbody>\n",
       "</table>\n",
       "</div>"
      ],
      "text/plain": [
       "   Month  Year  MaxTemp  MinTemp       Date\n",
       "0      1  1980     27.7     16.4 1980-01-01\n",
       "1      4  1980     26.0     17.0 1980-04-01\n",
       "2      5  1980     26.0     10.4 1980-05-01\n",
       "3      6  1980     21.5      7.1 1980-06-01\n",
       "4      7  1980     22.4      8.5 1980-07-01"
      ]
     },
     "execution_count": 139,
     "metadata": {},
     "output_type": "execute_result"
    }
   ],
   "source": [
    "kabwe_df = pandas.read_csv(\"Inputs/Temperature_Kabwe.csv\")\n",
    "kabwe_df['Date'] = pandas.to_datetime(kabwe_df.Year.astype(str)+'-'+kabwe_df.Month.astype(str),format='%Y-%m')\n",
    "kabwe_df.head()"
   ]
  },
  {
   "cell_type": "code",
   "execution_count": 140,
   "metadata": {},
   "outputs": [
    {
     "data": {
      "image/png": "[encoded data removed]",
      "text/plain": [
       "<Figure size 432x288 with 2 Axes>"
      ]
     },
     "metadata": {},
     "output_type": "display_data"
    }
   ],
   "source": [
    "kabwe_mintemp_monthly_lists = kabwe_df.groupby('Month')['MinTemp'].apply(list)\n",
    "kabwe_maxtemp_monthly_lists = kabwe_df.groupby('Month')['MaxTemp'].apply(list)\n",
    "matplotlib.pyplot.subplot(121)\n",
    "matplotlib.pyplot.boxplot(kabwe_mintemp_monthly_lists)\n",
    "matplotlib.pyplot.axis([1, 12, 4, 38])\n",
    "matplotlib.pyplot.subplot(122)\n",
    "matplotlib.pyplot.boxplot(kabwe_maxtemp_monthly_lists)\n",
    "matplotlib.pyplot.axis([1, 12, 4, 38])\n",
    "matplotlib.pyplot.show()"
   ]
  },
  {
   "cell_type": "code",
   "execution_count": 141,
   "metadata": {},
   "outputs": [
    {
     "data": {
      "text/html": [
       "<div>\n",
       "<style scoped>\n",
       "    .dataframe tbody tr th:only-of-type {\n",
       "        vertical-align: middle;\n",
       "    }\n",
       "\n",
       "    .dataframe tbody tr th {\n",
       "        vertical-align: top;\n",
       "    }\n",
       "\n",
       "    .dataframe thead th {\n",
       "        text-align: right;\n",
       "    }\n",
       "</style>\n",
       "<table border=\"1\" class=\"dataframe\">\n",
       "  <thead>\n",
       "    <tr style=\"text-align: right;\">\n",
       "      <th></th>\n",
       "      <th>Month</th>\n",
       "      <th>Year</th>\n",
       "      <th>MaxTemp</th>\n",
       "      <th>MinTemp</th>\n",
       "      <th>Date</th>\n",
       "    </tr>\n",
       "  </thead>\n",
       "  <tbody>\n",
       "    <tr>\n",
       "      <th>0</th>\n",
       "      <td>1</td>\n",
       "      <td>1980</td>\n",
       "      <td>27.7</td>\n",
       "      <td>164</td>\n",
       "      <td>1980-01-01</td>\n",
       "    </tr>\n",
       "    <tr>\n",
       "      <th>1</th>\n",
       "      <td>4</td>\n",
       "      <td>1980</td>\n",
       "      <td>26.0</td>\n",
       "      <td>170</td>\n",
       "      <td>1980-04-01</td>\n",
       "    </tr>\n",
       "    <tr>\n",
       "      <th>2</th>\n",
       "      <td>5</td>\n",
       "      <td>1980</td>\n",
       "      <td>26.0</td>\n",
       "      <td>104</td>\n",
       "      <td>1980-05-01</td>\n",
       "    </tr>\n",
       "    <tr>\n",
       "      <th>3</th>\n",
       "      <td>6</td>\n",
       "      <td>1980</td>\n",
       "      <td>21.5</td>\n",
       "      <td>71</td>\n",
       "      <td>1980-06-01</td>\n",
       "    </tr>\n",
       "    <tr>\n",
       "      <th>4</th>\n",
       "      <td>7</td>\n",
       "      <td>1980</td>\n",
       "      <td>22.4</td>\n",
       "      <td>85</td>\n",
       "      <td>1980-07-01</td>\n",
       "    </tr>\n",
       "  </tbody>\n",
       "</table>\n",
       "</div>"
      ],
      "text/plain": [
       "   Month  Year  MaxTemp  MinTemp       Date\n",
       "0      1  1980     27.7      164 1980-01-01\n",
       "1      4  1980     26.0      170 1980-04-01\n",
       "2      5  1980     26.0      104 1980-05-01\n",
       "3      6  1980     21.5       71 1980-06-01\n",
       "4      7  1980     22.4       85 1980-07-01"
      ]
     },
     "execution_count": 141,
     "metadata": {},
     "output_type": "execute_result"
    }
   ],
   "source": [
    "strata_df = kabwe_df\n",
    "strata_df['MinTemp'] = (strata_df['MinTemp'] * 10).astype(int)\n",
    "strata_df.head()"
   ]
  },
  {
   "cell_type": "markdown",
   "metadata": {},
   "source": [
    "merge data frames based on date. round. collapse into strata. bootstrap. compare bootstrap to merged copy. compare bootstrap to historic data. readjust some bootstraps"
   ]
  },
  {
   "cell_type": "code",
   "execution_count": null,
   "metadata": {},
   "outputs": [],
   "source": []
  }
 ],
 "metadata": {
  "kernelspec": {
   "display_name": "Python 3",
   "language": "python",
   "name": "python3"
  },
  "language_info": {
   "codemirror_mode": {
    "name": "ipython",
    "version": 3
   },
   "file_extension": ".py",
   "mimetype": "text/x-python",
   "name": "python",
   "nbconvert_exporter": "python",
   "pygments_lexer": "ipython3",
   "version": "3.6.5"
  }
 },
 "nbformat": 4,
 "nbformat_minor": 2
}
